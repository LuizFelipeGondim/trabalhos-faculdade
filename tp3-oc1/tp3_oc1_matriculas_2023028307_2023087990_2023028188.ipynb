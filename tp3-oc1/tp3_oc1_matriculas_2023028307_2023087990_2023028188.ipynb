{
  "cells": [
    {
      "cell_type": "markdown",
      "metadata": {
        "id": "M_fz_KGdMT88"
      },
      "source": [
        "# **Trabalho Prático 3 - Simulador de Memória Cache**\n",
        "\n",
        "Neste trabalho, vocês deveram desenvolver um programa que funcione como um **simulador de memória cache**. O objetivo deste trabalho é proporcionar a prática dos conceitos de **mapeamento direto, associatividade por conjunto e associatividade completa** que foram abordados durante o curso. A prática desses conceitos será essencial para compreender as diferenças entre os métodos de mapeamento e como eles afetam a eficiência e o desempenho da memória cache.\n",
        "\n",
        "Para simplificar o escopo do trabalho, o simulador não tratará os dados reais armazenados na memória. Em outras palavras, apenas o gerenciamento e o posicionamento das linhas na memória cache serão simulados, ignorando o conteúdo dos blocos.\n",
        "\n",
        "\n",
        "**Aluno(s):**"
      ]
    },
    {
      "cell_type": "markdown",
      "source": [
        "### **📚 Fundamentos de Cache**\n",
        "\n",
        "Um endereço de memória (por exemplo: 0xDEADBEEF) precisa ser dividido em partes para sabermos onde ele será mapeado na cache. Sendo assim, temos:\n",
        "\n",
        "1. A memória principal é dividida em blocos (do tamanho da linha de cache);\n",
        "\n",
        "2. A cache é dividida em linhas;\n",
        "\n",
        "3. Cada linha pode armazenar 1 bloco da memória principal;\n",
        "\n",
        "4. As linhas são agrupadas em conjuntos, dependendo do grau de associatividade;\n",
        "\n",
        "<br>\n",
        "\n",
        "### **🔢 Exemplo prático**\n",
        "\n",
        "Considere:\n",
        "```\n",
        "O tamanho total da cache: 4096\n",
        "O tamanho de cada linha: 1024\n",
        "Total de linhas: 4096 / 1024 = 4\n",
        "```\n",
        "\n",
        "\n",
        "**1. MAPEAMENTO DIRETO**\n",
        "\n",
        "* 4 linhas ⇒ 4 grupos\n",
        "* Cada endereço mapeia em um único grupo fixo\n",
        "* Número de bits de índice = log2(4) = 2 bits\n",
        "* Offset = log2(1024) = 10 bits\n",
        "* TAG = 32 - 2 - 10 = 20 bits\n",
        "\n",
        "  ```\n",
        "  ENDEREÇO = [TAG = 20 BITs | ÍNDICE = 2 BITs | OFFSET = 10 BITs ]\n",
        "  ```\n",
        "\n",
        "**2. ASSOCIATIVIDADE POR CONJUNTO**\n",
        "\n",
        "* 4 linhas / 2 linhas por grupo ⇒ 2 grupos\n",
        "* Número de bits de índice = log2(2) = 1 bit\n",
        "* Offset = log2(1024) = 10 bits\n",
        "* TAG = 32 - 1 - 10 = 21 bits\n",
        "\n",
        "  ```\n",
        "  ENDEREÇO = [TAG = 21 BITs | ÍNDICE = 1 BIT | OFFSET = 10 BITs ]\n",
        "\n",
        "**3. ASSOCIATIVIDADE COMPLETA**\n",
        "\n",
        "* 4 linhas / 4 linhas por grupo ⇒ 1 grupo\n",
        "* Número de bits de índice = 0 (não há indice)\n",
        "* Offset = log2(1024) = 10 bits\n",
        "* TAG = 32 - 10 = 22 bits\n",
        "\n",
        "  ```\n",
        "  ENDEREÇO = [TAG = 22 BITs | OFFSET = 10 BITs ]\n",
        "  ```\n"
      ],
      "metadata": {
        "id": "ZnEDu1mZ-VE6"
      }
    },
    {
      "cell_type": "markdown",
      "source": [
        "### **Especificação do simulador**\n",
        "\n",
        "Neste trabalho, o objetivo é desenvolver um programa que funcione como um simulador de memória cache. O simulador será responsável por gerenciar uma cache de apenas um nível, processando acessos à memória RAM, preenchendo as linhas da cache conforme necessário e contabilizando a quantidade de HITS e MISSES ocorridos durante a execução. O programa deverá verificar se um determinado bloco de memória já está presente na cache (HIT) ou se precisa ser carregado da memória principal (MISS). Além disso, o simulador determinará em qual linha da cache um bloco de memória será armazenado, quando necessário.\n",
        "\n",
        "\n",
        "Para simplificar o escopo do trabalho, o simulador não tratará os dados reais armazenados na memória. Em outras palavras, apenas o gerenciamento e o posicionamento das linhas na memória cache serão simulados, ignorando o conteúdo dos blocos.\n",
        "\n",
        "\n",
        "O simulador deverá ser desenvolvido em Python, podendo utilizar qualquer biblioteca adicional que os alunos considerem necessária.\n",
        "\n",
        "\n",
        "**Parâmetros de entrada:**\n",
        "\n",
        "\n",
        "\n",
        "1. **O tamanho total da cache, em bytes**. Se tivermos uma cache de 4KB, por exemplo, iremos digitar 4096.\n",
        "2. **O tamanho de cada linha, em bytes**. Uma linha de 1KB, por exemplo, seria entrada digitando-se 1024.\n",
        "3. **O tamanho de cada grupo, em unidades**. Pensando em uma memória cache de 4KB, e páginas de 1KB, teremos 4 linhas. Se tivermos uma linha por grupo, teremos um sistema de mapeamento direto.  Se tivermos 4 por grupo, teremos um sistema de associatividade completa.\n",
        "\n",
        "\n",
        "\n",
        "\n",
        "**Parâmetros de saida:**\n",
        "\n",
        "\n",
        "A saída do simulador desenvolvido deverá ser salva em uma estrutura de lista de dicionários como o nome `history`, onde cada dicionário representa um acesso individual à cache, contendo as seguintes informações:\n",
        "\n",
        "\n",
        "* **addr:** Endereço de memória acessado, no formato hexadecimal de 32 bits (exatamente 8 dígitos com prefixo 0x e letras maiúsculas). Esse valor corresponde ao identificador do bloco, obtido a partir do endereço original com os bits de deslocamento e, se aplicável, de conjuntos ignorados.\n",
        "\n",
        "\n",
        "* **group:** Número do grupo (ou conjunto) da cache ao qual o bloco foi mapeado. Em caches com associatividade total (fully associative), este valor será sempre 0.\n",
        "\n",
        "\n",
        "* **idx_line:** Índice da linha dentro do grupo utilizada para armazenar o bloco acessado.\n",
        "\n",
        "\n",
        "* **result:** Resultado da operação de leitura na cache. Pode ser \"HIT\" se o bloco já estiver presente na cache, ou \"MISS\" se for necessário carregá-lo da memória principal.\n",
        "\n",
        "\n",
        "\n"
      ],
      "metadata": {
        "id": "hFy2I_hKxnXF"
      }
    },
    {
      "cell_type": "markdown",
      "source": [
        "### **Parâmetros fixos do simulador**\n",
        "\n",
        "\n",
        "1. O espaço de endereçamento será de **32 bits**;\n",
        "2. Os endereços sempre referenciam **bytes**, e não palavras;\n",
        "3. A política de substituição de páginas é a **FIFO (First In First Out)**;\n",
        "4. A alocação de linhas em um conjunto **seguirá a ordem**. Ou seja, se tivermos um conjunto de tamanho dois, vamos primeiro armazenar o bloco na primeira linha do conjunto, e em seguida na segunda;\n",
        "5. As linhas de um conjunto serão armazenadas de **forma consecutiva** na cache (uma atrás da outra);\n",
        "6. Teremos **menos de mil linhas** de cache.\n"
      ],
      "metadata": {
        "id": "NBjFx-VmzdzL"
      }
    },
    {
      "cell_type": "markdown",
      "source": [
        "# **Simulador de Memória Cache**"
      ],
      "metadata": {
        "id": "fa088XwwiR3U"
      }
    },
    {
      "cell_type": "code",
      "source": [
        "import math\n",
        "from collections import deque\n",
        "\n",
        "class SimuladorCache:\n",
        "    def __init__(self, cache_size, line_size, associativity):\n",
        "        # Inicializa os parâmetros principais da cache\n",
        "        self.tamanho_cache = cache_size\n",
        "        self.tamanho_linha = line_size\n",
        "        self.associatividade = associativity\n",
        "        self.num_linhas = cache_size // line_size\n",
        "        self.num_grupos = self.num_linhas // associativity\n",
        "        self.bits_offset = int(math.log2(line_size))\n",
        "        self.bits_indice = int(math.log2(self.num_grupos)) if self.num_grupos > 1 else 0\n",
        "\n",
        "        # Cria a estrutura da cache e a fila FIFO para substituição\n",
        "        self.cache = [ [None] * associativity for _ in range(self.num_grupos) ]\n",
        "        self.fifo = [ deque() for _ in range(self.num_grupos) ]  # FIFO por grupo\n",
        "        self.historico = []\n",
        "\n",
        "    # Função auxiliar: calcula a TAG, o número do grupo e o identificador do bloco\n",
        "    def obter_tag_grupo_identificador(self, endereco_hex):\n",
        "        endereco = int(endereco_hex, 16)\n",
        "\n",
        "        endereco_bloco = endereco >> self.bits_offset\n",
        "        grupo = (endereco_bloco & ((1 << self.bits_indice) - 1)) if self.bits_indice > 0 else 0\n",
        "        tag = endereco_bloco >> self.bits_indice\n",
        "\n",
        "        bloco = endereco >> (self.bits_offset + self.bits_indice)\n",
        "        identificador_hex = f\"0x{bloco:08X}\"\n",
        "\n",
        "        return tag, grupo, identificador_hex\n",
        "\n",
        "    # Realiza um acesso à cache com base em um endereço hexadecimal\n",
        "    def acessar_cache(self, endereco_hex):\n",
        "        tag, grupo, id_bloco = self.obter_tag_grupo_identificador(endereco_hex)\n",
        "        cache_grupo = self.cache[grupo]\n",
        "        fila_grupo = self.fifo[grupo]\n",
        "\n",
        "        # Verifica se houve HIT\n",
        "        for linha, tag_armazenada in enumerate(cache_grupo):\n",
        "            if tag_armazenada == tag:\n",
        "                self.historico.append({\n",
        "                    \"addr\": id_bloco,\n",
        "                    \"group\": grupo,\n",
        "                    \"idx_line\": linha,\n",
        "                    \"result\": \"HIT\"\n",
        "                })\n",
        "                return\n",
        "\n",
        "        # MISS — substituição FIFO se necessário\n",
        "        if len(fila_grupo) >= self.associatividade:\n",
        "            idx_antigo = fila_grupo.popleft()\n",
        "            cache_grupo[idx_antigo] = tag\n",
        "            fila_grupo.append(idx_antigo)\n",
        "            linha = idx_antigo\n",
        "        else:\n",
        "            # Encontra a próxima linha vazia\n",
        "            for linha in range(self.associatividade):\n",
        "                if cache_grupo[linha] is None:\n",
        "                    cache_grupo[linha] = tag\n",
        "                    fila_grupo.append(linha)\n",
        "                    break\n",
        "\n",
        "        self.historico.append({\n",
        "            \"addr\": id_bloco,\n",
        "            \"group\": grupo,\n",
        "            \"idx_line\": linha,\n",
        "            \"result\": \"MISS\"\n",
        "        })\n",
        "\n",
        "    # Retorna o histórico completo dos acessos (HITs e MISSes)\n",
        "    def obter_historico(self):\n",
        "        return self.historico"
      ],
      "metadata": {
        "id": "hqp_9w4riXfa"
      },
      "execution_count": 1,
      "outputs": []
    },
    {
      "cell_type": "markdown",
      "source": [
        "### **Função de visualizacão da Cache**"
      ],
      "metadata": {
        "id": "VLZy2meaW1Jr"
      }
    },
    {
      "cell_type": "code",
      "source": [
        "import pandas as pd\n",
        "from IPython.display import display, HTML, clear_output\n",
        "import ipywidgets as widgets\n",
        "\n",
        "def imprimir_resultados(historico, cache_size, line_size, associativity):\n",
        "    df = pd.DataFrame(historico)\n",
        "\n",
        "    num_lines = cache_size // line_size\n",
        "    num_groups = num_lines // associativity\n",
        "\n",
        "    # === Histórico ===\n",
        "    print(\"\\n=== Histórico de Acessos ===\")\n",
        "    def color_result(val):\n",
        "        if val == \"HIT\":\n",
        "            return \"background-color: lightgreen; text-align: center\"\n",
        "        elif val == \"MISS\":\n",
        "            return \"background-color: lightcoral; text-align: center\"\n",
        "        else:\n",
        "            return \"\"\n",
        "\n",
        "    styled_df = df.style.map(color_result, subset=[\"result\"]).set_properties(**{\n",
        "        'text-align': 'center'\n",
        "    }).set_table_attributes('style=\"margin: auto\"')\n",
        "\n",
        "    display(styled_df)\n",
        "\n",
        "    # === Contadores ===\n",
        "    hits = (df[\"result\"] == \"HIT\").sum()\n",
        "    misses = (df[\"result\"] == \"MISS\").sum()\n",
        "\n",
        "    print(f\"\\nHITs: {hits}\")\n",
        "    print(f\"MISSes: {misses}\")\n",
        "\n",
        "    # === Estado final da cache ===\n",
        "    ultima_ocorrencia = (\n",
        "        df[df[\"result\"] == \"MISS\"]\n",
        "        .drop_duplicates(subset=[\"group\", \"idx_line\"], keep='last')\n",
        "    )\n",
        "\n",
        "    estado_cache = []\n",
        "    for group in range(num_groups):\n",
        "        for idx_line in range(associativity):\n",
        "            match = ultima_ocorrencia.query(\"group == @group and idx_line == @idx_line\")\n",
        "            addr = match.iloc[0][\"addr\"] if not match.empty else \"-\"\n",
        "            estado_cache.append({\n",
        "                'group': group,\n",
        "                'idx_line': idx_line,\n",
        "                'addr': addr\n",
        "            })\n",
        "\n",
        "    estado_df = pd.DataFrame(estado_cache)\n",
        "\n",
        "    print(\"\\n=== Estado Final da Cache ===\")\n",
        "    styled_estado = estado_df.style.map(\n",
        "        lambda v: \"background-color: lightgray; text-align: center\" if v == \"-\" else \"text-align: center\",\n",
        "        subset=[\"addr\"]\n",
        "    ).set_properties(**{\n",
        "        'text-align': 'center'\n",
        "    }).set_table_attributes('style=\"margin: auto\"')\n",
        "\n",
        "    display(styled_estado)\n",
        "\n",
        "    # === Interatividade: passo a passo ===\n",
        "    print(\"\\n=== Evolução da Cache (passo a passo) ===\")\n",
        "\n",
        "    slider = widgets.IntSlider(\n",
        "        value=0,\n",
        "        min=0,\n",
        "        max=len(df),\n",
        "        step=1,\n",
        "        description='Passo:',\n",
        "        continuous_update=False\n",
        "    )\n",
        "\n",
        "    output = widgets.Output()\n",
        "\n",
        "    def atualizar_cache(passo):\n",
        "        with output:\n",
        "            clear_output(wait=True)\n",
        "\n",
        "            if passo == 0:\n",
        "                print(\"⚠️ Nenhum acesso realizado ainda.\")\n",
        "                return\n",
        "\n",
        "            parcial = df.iloc[:passo]\n",
        "            ult_parcial = (\n",
        "                parcial[parcial[\"result\"] == \"MISS\"]\n",
        "                .drop_duplicates(subset=[\"group\", \"idx_line\"], keep='last')\n",
        "            )\n",
        "\n",
        "            estado_parcial = []\n",
        "            for group in range(num_groups):\n",
        "                for idx_line in range(associativity):\n",
        "                    match = ult_parcial.query(\"group == @group and idx_line == @idx_line\")\n",
        "                    addr = match.iloc[0][\"addr\"] if not match.empty else \"-\"\n",
        "                    estado_parcial.append({\n",
        "                        'group': group,\n",
        "                        'idx_line': idx_line,\n",
        "                        'addr': addr\n",
        "                    })\n",
        "\n",
        "            parcial_df = pd.DataFrame(estado_parcial)\n",
        "\n",
        "            print(f\"📍 Acesso {passo}/{len(df)}: addr = {df.iloc[passo-1]['addr']} | result = {df.iloc[passo-1]['result']}\")\n",
        "            styled_parcial = parcial_df.style.map(\n",
        "                lambda v: \"background-color: lightgray; text-align: center\" if v == \"-\" else \"text-align: center\",\n",
        "                subset=[\"addr\"]\n",
        "            ).set_properties(**{\n",
        "                'text-align': 'center'\n",
        "            }).set_table_attributes('style=\"margin: auto\"')\n",
        "\n",
        "            display(styled_parcial)\n",
        "\n",
        "    slider.observe(lambda change: atualizar_cache(change[\"new\"]), names=\"value\")\n",
        "\n",
        "    display(slider, output)\n",
        "    atualizar_cache(0)"
      ],
      "metadata": {
        "id": "scR_9qMlhiiZ"
      },
      "execution_count": 2,
      "outputs": []
    },
    {
      "cell_type": "markdown",
      "source": [
        "### **EXEMPLO 1**"
      ],
      "metadata": {
        "id": "E5YfJjm-W7wX"
      }
    },
    {
      "cell_type": "code",
      "source": [
        "# Parâmetros de entrada\n",
        "cache_size = 4096\n",
        "line_size = 1024\n",
        "associativity = 4\n",
        "\n",
        "entrada1 = [\n",
        "'0x0CB886CA',\n",
        "'0x06BC89BA',\n",
        "'0x379CBAD1',\n",
        "'0x28F3123B',\n",
        "'0x06F98ED5'\n",
        "]\n",
        "\n",
        "simulator = SimuladorCache(cache_size, line_size, associativity)\n",
        "for addr in entrada1:\n",
        "    simulator.acessar_cache(addr)\n",
        "\n",
        "history = simulator.obter_historico()\n",
        "imprimir_resultados(history, cache_size, line_size, associativity)"
      ],
      "metadata": {
        "colab": {
          "base_uri": "https://localhost:8080/",
          "height": 570,
          "referenced_widgets": [
            "92dc426c74424357b08626ed981a8e43",
            "479ba7a23b184bc5a67fc529942bc8f8",
            "f613b78004d44f25868b4aeef6352d06",
            "8b3b625cc91146f395390be1e4dd8018",
            "52cfabc382ed4ccca3838745a04a7e90"
          ]
        },
        "id": "ZSoQnj6abst6",
        "outputId": "b44577ec-00e8-48ae-bc88-f27fc87f22ee"
      },
      "execution_count": 4,
      "outputs": [
        {
          "output_type": "stream",
          "name": "stdout",
          "text": [
            "\n",
            "=== Histórico de Acessos ===\n"
          ]
        },
        {
          "output_type": "display_data",
          "data": {
            "text/plain": [
              "<pandas.io.formats.style.Styler at 0x7ec00510db10>"
            ],
            "text/html": [
              "<style type=\"text/css\">\n",
              "#T_cd330_row0_col0, #T_cd330_row0_col1, #T_cd330_row0_col2, #T_cd330_row1_col0, #T_cd330_row1_col1, #T_cd330_row1_col2, #T_cd330_row2_col0, #T_cd330_row2_col1, #T_cd330_row2_col2, #T_cd330_row3_col0, #T_cd330_row3_col1, #T_cd330_row3_col2, #T_cd330_row4_col0, #T_cd330_row4_col1, #T_cd330_row4_col2 {\n",
              "  text-align: center;\n",
              "}\n",
              "#T_cd330_row0_col3, #T_cd330_row1_col3, #T_cd330_row2_col3, #T_cd330_row3_col3, #T_cd330_row4_col3 {\n",
              "  background-color: lightcoral;\n",
              "  text-align: center;\n",
              "  text-align: center;\n",
              "}\n",
              "</style>\n",
              "<table id=\"T_cd330\" class=\"dataframe\">\n",
              "  <thead>\n",
              "    <tr>\n",
              "      <th class=\"blank level0\" >&nbsp;</th>\n",
              "      <th id=\"T_cd330_level0_col0\" class=\"col_heading level0 col0\" >addr</th>\n",
              "      <th id=\"T_cd330_level0_col1\" class=\"col_heading level0 col1\" >group</th>\n",
              "      <th id=\"T_cd330_level0_col2\" class=\"col_heading level0 col2\" >idx_line</th>\n",
              "      <th id=\"T_cd330_level0_col3\" class=\"col_heading level0 col3\" >result</th>\n",
              "    </tr>\n",
              "  </thead>\n",
              "  <tbody>\n",
              "    <tr>\n",
              "      <th id=\"T_cd330_level0_row0\" class=\"row_heading level0 row0\" >0</th>\n",
              "      <td id=\"T_cd330_row0_col0\" class=\"data row0 col0\" >0x00032E21</td>\n",
              "      <td id=\"T_cd330_row0_col1\" class=\"data row0 col1\" >0</td>\n",
              "      <td id=\"T_cd330_row0_col2\" class=\"data row0 col2\" >0</td>\n",
              "      <td id=\"T_cd330_row0_col3\" class=\"data row0 col3\" >MISS</td>\n",
              "    </tr>\n",
              "    <tr>\n",
              "      <th id=\"T_cd330_level0_row1\" class=\"row_heading level0 row1\" >1</th>\n",
              "      <td id=\"T_cd330_row1_col0\" class=\"data row1 col0\" >0x0001AF22</td>\n",
              "      <td id=\"T_cd330_row1_col1\" class=\"data row1 col1\" >0</td>\n",
              "      <td id=\"T_cd330_row1_col2\" class=\"data row1 col2\" >1</td>\n",
              "      <td id=\"T_cd330_row1_col3\" class=\"data row1 col3\" >MISS</td>\n",
              "    </tr>\n",
              "    <tr>\n",
              "      <th id=\"T_cd330_level0_row2\" class=\"row_heading level0 row2\" >2</th>\n",
              "      <td id=\"T_cd330_row2_col0\" class=\"data row2 col0\" >0x000DE72E</td>\n",
              "      <td id=\"T_cd330_row2_col1\" class=\"data row2 col1\" >0</td>\n",
              "      <td id=\"T_cd330_row2_col2\" class=\"data row2 col2\" >2</td>\n",
              "      <td id=\"T_cd330_row2_col3\" class=\"data row2 col3\" >MISS</td>\n",
              "    </tr>\n",
              "    <tr>\n",
              "      <th id=\"T_cd330_level0_row3\" class=\"row_heading level0 row3\" >3</th>\n",
              "      <td id=\"T_cd330_row3_col0\" class=\"data row3 col0\" >0x000A3CC4</td>\n",
              "      <td id=\"T_cd330_row3_col1\" class=\"data row3 col1\" >0</td>\n",
              "      <td id=\"T_cd330_row3_col2\" class=\"data row3 col2\" >3</td>\n",
              "      <td id=\"T_cd330_row3_col3\" class=\"data row3 col3\" >MISS</td>\n",
              "    </tr>\n",
              "    <tr>\n",
              "      <th id=\"T_cd330_level0_row4\" class=\"row_heading level0 row4\" >4</th>\n",
              "      <td id=\"T_cd330_row4_col0\" class=\"data row4 col0\" >0x0001BE63</td>\n",
              "      <td id=\"T_cd330_row4_col1\" class=\"data row4 col1\" >0</td>\n",
              "      <td id=\"T_cd330_row4_col2\" class=\"data row4 col2\" >0</td>\n",
              "      <td id=\"T_cd330_row4_col3\" class=\"data row4 col3\" >MISS</td>\n",
              "    </tr>\n",
              "  </tbody>\n",
              "</table>\n"
            ]
          },
          "metadata": {}
        },
        {
          "output_type": "stream",
          "name": "stdout",
          "text": [
            "\n",
            "HITs: 0\n",
            "MISSes: 5\n",
            "\n",
            "=== Estado Final da Cache ===\n"
          ]
        },
        {
          "output_type": "display_data",
          "data": {
            "text/plain": [
              "<pandas.io.formats.style.Styler at 0x7ec038b9fed0>"
            ],
            "text/html": [
              "<style type=\"text/css\">\n",
              "#T_a411d_row0_col0, #T_a411d_row0_col1, #T_a411d_row1_col0, #T_a411d_row1_col1, #T_a411d_row2_col0, #T_a411d_row2_col1, #T_a411d_row3_col0, #T_a411d_row3_col1 {\n",
              "  text-align: center;\n",
              "}\n",
              "#T_a411d_row0_col2, #T_a411d_row1_col2, #T_a411d_row2_col2, #T_a411d_row3_col2 {\n",
              "  text-align: center;\n",
              "  text-align: center;\n",
              "}\n",
              "</style>\n",
              "<table id=\"T_a411d\" class=\"dataframe\">\n",
              "  <thead>\n",
              "    <tr>\n",
              "      <th class=\"blank level0\" >&nbsp;</th>\n",
              "      <th id=\"T_a411d_level0_col0\" class=\"col_heading level0 col0\" >group</th>\n",
              "      <th id=\"T_a411d_level0_col1\" class=\"col_heading level0 col1\" >idx_line</th>\n",
              "      <th id=\"T_a411d_level0_col2\" class=\"col_heading level0 col2\" >addr</th>\n",
              "    </tr>\n",
              "  </thead>\n",
              "  <tbody>\n",
              "    <tr>\n",
              "      <th id=\"T_a411d_level0_row0\" class=\"row_heading level0 row0\" >0</th>\n",
              "      <td id=\"T_a411d_row0_col0\" class=\"data row0 col0\" >0</td>\n",
              "      <td id=\"T_a411d_row0_col1\" class=\"data row0 col1\" >0</td>\n",
              "      <td id=\"T_a411d_row0_col2\" class=\"data row0 col2\" >0x0001BE63</td>\n",
              "    </tr>\n",
              "    <tr>\n",
              "      <th id=\"T_a411d_level0_row1\" class=\"row_heading level0 row1\" >1</th>\n",
              "      <td id=\"T_a411d_row1_col0\" class=\"data row1 col0\" >0</td>\n",
              "      <td id=\"T_a411d_row1_col1\" class=\"data row1 col1\" >1</td>\n",
              "      <td id=\"T_a411d_row1_col2\" class=\"data row1 col2\" >0x0001AF22</td>\n",
              "    </tr>\n",
              "    <tr>\n",
              "      <th id=\"T_a411d_level0_row2\" class=\"row_heading level0 row2\" >2</th>\n",
              "      <td id=\"T_a411d_row2_col0\" class=\"data row2 col0\" >0</td>\n",
              "      <td id=\"T_a411d_row2_col1\" class=\"data row2 col1\" >2</td>\n",
              "      <td id=\"T_a411d_row2_col2\" class=\"data row2 col2\" >0x000DE72E</td>\n",
              "    </tr>\n",
              "    <tr>\n",
              "      <th id=\"T_a411d_level0_row3\" class=\"row_heading level0 row3\" >3</th>\n",
              "      <td id=\"T_a411d_row3_col0\" class=\"data row3 col0\" >0</td>\n",
              "      <td id=\"T_a411d_row3_col1\" class=\"data row3 col1\" >3</td>\n",
              "      <td id=\"T_a411d_row3_col2\" class=\"data row3 col2\" >0x000A3CC4</td>\n",
              "    </tr>\n",
              "  </tbody>\n",
              "</table>\n"
            ]
          },
          "metadata": {}
        },
        {
          "output_type": "stream",
          "name": "stdout",
          "text": [
            "\n",
            "=== Evolução da Cache (passo a passo) ===\n"
          ]
        },
        {
          "output_type": "display_data",
          "data": {
            "text/plain": [
              "IntSlider(value=0, continuous_update=False, description='Passo:', max=5)"
            ],
            "application/vnd.jupyter.widget-view+json": {
              "version_major": 2,
              "version_minor": 0,
              "model_id": "92dc426c74424357b08626ed981a8e43"
            }
          },
          "metadata": {}
        },
        {
          "output_type": "display_data",
          "data": {
            "text/plain": [
              "Output()"
            ],
            "application/vnd.jupyter.widget-view+json": {
              "version_major": 2,
              "version_minor": 0,
              "model_id": "8b3b625cc91146f395390be1e4dd8018"
            }
          },
          "metadata": {}
        }
      ]
    },
    {
      "cell_type": "markdown",
      "source": [
        "### **EXEMPLO 2**"
      ],
      "metadata": {
        "id": "5bocqk5HXbYT"
      }
    },
    {
      "cell_type": "code",
      "source": [
        "# Parâmetros de entrada\n",
        "cache_size = 4096\n",
        "line_size = 1024\n",
        "associativity = 4\n",
        "\n",
        "entrada2 = [\n",
        "  '0x0CB886CA',\n",
        "  '0x06BC89BA',\n",
        "  '0x379CBAD1',\n",
        "  '0x28F3123B',\n",
        "  '0x06F98ED5',\n",
        "  '0x06F98ED8',\n",
        "  '0x06BC89BA'\n",
        "]\n",
        "\n",
        "simulator = SimuladorCache(cache_size, line_size, associativity)\n",
        "for addr in entrada2:\n",
        "    simulator.acessar_cache(addr)\n",
        "\n",
        "history = simulator.obter_historico()\n",
        "imprimir_resultados(history, cache_size, line_size, associativity)"
      ],
      "metadata": {
        "colab": {
          "base_uri": "https://localhost:8080/",
          "height": 632,
          "referenced_widgets": [
            "fb3bd1651e2147899dfcdad38f9caffa",
            "9c9fd9337aa34dabb41630b957700813",
            "27e62dd8866c428f955303a692cce951",
            "8b4a47633bc44f3b803f3202dc58554d",
            "ff674ae6e79e461bae1242b3d501d709"
          ]
        },
        "id": "LkoL_GqjXfon",
        "outputId": "9a473d76-8191-4587-c158-fc9e3d0db74b"
      },
      "execution_count": 5,
      "outputs": [
        {
          "output_type": "stream",
          "name": "stdout",
          "text": [
            "\n",
            "=== Histórico de Acessos ===\n"
          ]
        },
        {
          "output_type": "display_data",
          "data": {
            "text/plain": [
              "<pandas.io.formats.style.Styler at 0x7ec005140810>"
            ],
            "text/html": [
              "<style type=\"text/css\">\n",
              "#T_c95a8_row0_col0, #T_c95a8_row0_col1, #T_c95a8_row0_col2, #T_c95a8_row1_col0, #T_c95a8_row1_col1, #T_c95a8_row1_col2, #T_c95a8_row2_col0, #T_c95a8_row2_col1, #T_c95a8_row2_col2, #T_c95a8_row3_col0, #T_c95a8_row3_col1, #T_c95a8_row3_col2, #T_c95a8_row4_col0, #T_c95a8_row4_col1, #T_c95a8_row4_col2, #T_c95a8_row5_col0, #T_c95a8_row5_col1, #T_c95a8_row5_col2, #T_c95a8_row6_col0, #T_c95a8_row6_col1, #T_c95a8_row6_col2 {\n",
              "  text-align: center;\n",
              "}\n",
              "#T_c95a8_row0_col3, #T_c95a8_row1_col3, #T_c95a8_row2_col3, #T_c95a8_row3_col3, #T_c95a8_row4_col3 {\n",
              "  background-color: lightcoral;\n",
              "  text-align: center;\n",
              "  text-align: center;\n",
              "}\n",
              "#T_c95a8_row5_col3, #T_c95a8_row6_col3 {\n",
              "  background-color: lightgreen;\n",
              "  text-align: center;\n",
              "  text-align: center;\n",
              "}\n",
              "</style>\n",
              "<table id=\"T_c95a8\" class=\"dataframe\">\n",
              "  <thead>\n",
              "    <tr>\n",
              "      <th class=\"blank level0\" >&nbsp;</th>\n",
              "      <th id=\"T_c95a8_level0_col0\" class=\"col_heading level0 col0\" >addr</th>\n",
              "      <th id=\"T_c95a8_level0_col1\" class=\"col_heading level0 col1\" >group</th>\n",
              "      <th id=\"T_c95a8_level0_col2\" class=\"col_heading level0 col2\" >idx_line</th>\n",
              "      <th id=\"T_c95a8_level0_col3\" class=\"col_heading level0 col3\" >result</th>\n",
              "    </tr>\n",
              "  </thead>\n",
              "  <tbody>\n",
              "    <tr>\n",
              "      <th id=\"T_c95a8_level0_row0\" class=\"row_heading level0 row0\" >0</th>\n",
              "      <td id=\"T_c95a8_row0_col0\" class=\"data row0 col0\" >0x00032E21</td>\n",
              "      <td id=\"T_c95a8_row0_col1\" class=\"data row0 col1\" >0</td>\n",
              "      <td id=\"T_c95a8_row0_col2\" class=\"data row0 col2\" >0</td>\n",
              "      <td id=\"T_c95a8_row0_col3\" class=\"data row0 col3\" >MISS</td>\n",
              "    </tr>\n",
              "    <tr>\n",
              "      <th id=\"T_c95a8_level0_row1\" class=\"row_heading level0 row1\" >1</th>\n",
              "      <td id=\"T_c95a8_row1_col0\" class=\"data row1 col0\" >0x0001AF22</td>\n",
              "      <td id=\"T_c95a8_row1_col1\" class=\"data row1 col1\" >0</td>\n",
              "      <td id=\"T_c95a8_row1_col2\" class=\"data row1 col2\" >1</td>\n",
              "      <td id=\"T_c95a8_row1_col3\" class=\"data row1 col3\" >MISS</td>\n",
              "    </tr>\n",
              "    <tr>\n",
              "      <th id=\"T_c95a8_level0_row2\" class=\"row_heading level0 row2\" >2</th>\n",
              "      <td id=\"T_c95a8_row2_col0\" class=\"data row2 col0\" >0x000DE72E</td>\n",
              "      <td id=\"T_c95a8_row2_col1\" class=\"data row2 col1\" >0</td>\n",
              "      <td id=\"T_c95a8_row2_col2\" class=\"data row2 col2\" >2</td>\n",
              "      <td id=\"T_c95a8_row2_col3\" class=\"data row2 col3\" >MISS</td>\n",
              "    </tr>\n",
              "    <tr>\n",
              "      <th id=\"T_c95a8_level0_row3\" class=\"row_heading level0 row3\" >3</th>\n",
              "      <td id=\"T_c95a8_row3_col0\" class=\"data row3 col0\" >0x000A3CC4</td>\n",
              "      <td id=\"T_c95a8_row3_col1\" class=\"data row3 col1\" >0</td>\n",
              "      <td id=\"T_c95a8_row3_col2\" class=\"data row3 col2\" >3</td>\n",
              "      <td id=\"T_c95a8_row3_col3\" class=\"data row3 col3\" >MISS</td>\n",
              "    </tr>\n",
              "    <tr>\n",
              "      <th id=\"T_c95a8_level0_row4\" class=\"row_heading level0 row4\" >4</th>\n",
              "      <td id=\"T_c95a8_row4_col0\" class=\"data row4 col0\" >0x0001BE63</td>\n",
              "      <td id=\"T_c95a8_row4_col1\" class=\"data row4 col1\" >0</td>\n",
              "      <td id=\"T_c95a8_row4_col2\" class=\"data row4 col2\" >0</td>\n",
              "      <td id=\"T_c95a8_row4_col3\" class=\"data row4 col3\" >MISS</td>\n",
              "    </tr>\n",
              "    <tr>\n",
              "      <th id=\"T_c95a8_level0_row5\" class=\"row_heading level0 row5\" >5</th>\n",
              "      <td id=\"T_c95a8_row5_col0\" class=\"data row5 col0\" >0x0001BE63</td>\n",
              "      <td id=\"T_c95a8_row5_col1\" class=\"data row5 col1\" >0</td>\n",
              "      <td id=\"T_c95a8_row5_col2\" class=\"data row5 col2\" >0</td>\n",
              "      <td id=\"T_c95a8_row5_col3\" class=\"data row5 col3\" >HIT</td>\n",
              "    </tr>\n",
              "    <tr>\n",
              "      <th id=\"T_c95a8_level0_row6\" class=\"row_heading level0 row6\" >6</th>\n",
              "      <td id=\"T_c95a8_row6_col0\" class=\"data row6 col0\" >0x0001AF22</td>\n",
              "      <td id=\"T_c95a8_row6_col1\" class=\"data row6 col1\" >0</td>\n",
              "      <td id=\"T_c95a8_row6_col2\" class=\"data row6 col2\" >1</td>\n",
              "      <td id=\"T_c95a8_row6_col3\" class=\"data row6 col3\" >HIT</td>\n",
              "    </tr>\n",
              "  </tbody>\n",
              "</table>\n"
            ]
          },
          "metadata": {}
        },
        {
          "output_type": "stream",
          "name": "stdout",
          "text": [
            "\n",
            "HITs: 2\n",
            "MISSes: 5\n",
            "\n",
            "=== Estado Final da Cache ===\n"
          ]
        },
        {
          "output_type": "display_data",
          "data": {
            "text/plain": [
              "<pandas.io.formats.style.Styler at 0x7ec0051302d0>"
            ],
            "text/html": [
              "<style type=\"text/css\">\n",
              "#T_7d605_row0_col0, #T_7d605_row0_col1, #T_7d605_row1_col0, #T_7d605_row1_col1, #T_7d605_row2_col0, #T_7d605_row2_col1, #T_7d605_row3_col0, #T_7d605_row3_col1 {\n",
              "  text-align: center;\n",
              "}\n",
              "#T_7d605_row0_col2, #T_7d605_row1_col2, #T_7d605_row2_col2, #T_7d605_row3_col2 {\n",
              "  text-align: center;\n",
              "  text-align: center;\n",
              "}\n",
              "</style>\n",
              "<table id=\"T_7d605\" class=\"dataframe\">\n",
              "  <thead>\n",
              "    <tr>\n",
              "      <th class=\"blank level0\" >&nbsp;</th>\n",
              "      <th id=\"T_7d605_level0_col0\" class=\"col_heading level0 col0\" >group</th>\n",
              "      <th id=\"T_7d605_level0_col1\" class=\"col_heading level0 col1\" >idx_line</th>\n",
              "      <th id=\"T_7d605_level0_col2\" class=\"col_heading level0 col2\" >addr</th>\n",
              "    </tr>\n",
              "  </thead>\n",
              "  <tbody>\n",
              "    <tr>\n",
              "      <th id=\"T_7d605_level0_row0\" class=\"row_heading level0 row0\" >0</th>\n",
              "      <td id=\"T_7d605_row0_col0\" class=\"data row0 col0\" >0</td>\n",
              "      <td id=\"T_7d605_row0_col1\" class=\"data row0 col1\" >0</td>\n",
              "      <td id=\"T_7d605_row0_col2\" class=\"data row0 col2\" >0x0001BE63</td>\n",
              "    </tr>\n",
              "    <tr>\n",
              "      <th id=\"T_7d605_level0_row1\" class=\"row_heading level0 row1\" >1</th>\n",
              "      <td id=\"T_7d605_row1_col0\" class=\"data row1 col0\" >0</td>\n",
              "      <td id=\"T_7d605_row1_col1\" class=\"data row1 col1\" >1</td>\n",
              "      <td id=\"T_7d605_row1_col2\" class=\"data row1 col2\" >0x0001AF22</td>\n",
              "    </tr>\n",
              "    <tr>\n",
              "      <th id=\"T_7d605_level0_row2\" class=\"row_heading level0 row2\" >2</th>\n",
              "      <td id=\"T_7d605_row2_col0\" class=\"data row2 col0\" >0</td>\n",
              "      <td id=\"T_7d605_row2_col1\" class=\"data row2 col1\" >2</td>\n",
              "      <td id=\"T_7d605_row2_col2\" class=\"data row2 col2\" >0x000DE72E</td>\n",
              "    </tr>\n",
              "    <tr>\n",
              "      <th id=\"T_7d605_level0_row3\" class=\"row_heading level0 row3\" >3</th>\n",
              "      <td id=\"T_7d605_row3_col0\" class=\"data row3 col0\" >0</td>\n",
              "      <td id=\"T_7d605_row3_col1\" class=\"data row3 col1\" >3</td>\n",
              "      <td id=\"T_7d605_row3_col2\" class=\"data row3 col2\" >0x000A3CC4</td>\n",
              "    </tr>\n",
              "  </tbody>\n",
              "</table>\n"
            ]
          },
          "metadata": {}
        },
        {
          "output_type": "stream",
          "name": "stdout",
          "text": [
            "\n",
            "=== Evolução da Cache (passo a passo) ===\n"
          ]
        },
        {
          "output_type": "display_data",
          "data": {
            "text/plain": [
              "IntSlider(value=0, continuous_update=False, description='Passo:', max=7)"
            ],
            "application/vnd.jupyter.widget-view+json": {
              "version_major": 2,
              "version_minor": 0,
              "model_id": "fb3bd1651e2147899dfcdad38f9caffa"
            }
          },
          "metadata": {}
        },
        {
          "output_type": "display_data",
          "data": {
            "text/plain": [
              "Output()"
            ],
            "application/vnd.jupyter.widget-view+json": {
              "version_major": 2,
              "version_minor": 0,
              "model_id": "8b4a47633bc44f3b803f3202dc58554d"
            }
          },
          "metadata": {}
        }
      ]
    },
    {
      "cell_type": "markdown",
      "source": [
        "### **EXEMPLO 3**"
      ],
      "metadata": {
        "id": "nTr18z0uX3Ah"
      }
    },
    {
      "cell_type": "code",
      "source": [
        "# Parâmetros de entrada\n",
        "cache_size = 4096\n",
        "line_size = 1024\n",
        "associativity = 4\n",
        "\n",
        "entrada3 = [\n",
        "  '0x0CB886CA',\n",
        "  '0x06BC89BA',\n",
        "  '0x379CBAD1',\n",
        "  '0x28F3123B',\n",
        "  '0x06F98ED5',\n",
        "  '0x06F98ED8',\n",
        "  '0x17AA08A2'\n",
        "]\n",
        "\n",
        "simulator = SimuladorCache(cache_size, line_size, associativity)\n",
        "for addr in entrada3:\n",
        "    simulator.acessar_cache(addr)\n",
        "\n",
        "history = simulator.obter_historico()\n",
        "imprimir_resultados(history, cache_size, line_size, associativity  )"
      ],
      "metadata": {
        "colab": {
          "base_uri": "https://localhost:8080/",
          "height": 632,
          "referenced_widgets": [
            "a3e2165d4f4d4e27bc3334984d572249",
            "f264c30c35c94d5c9a596fee8671863b",
            "79d329e0f02d4f58be28a982b42017fd",
            "a846cd605840413083c300c92264b6bb",
            "3f7d9001d4c6438a8de9f4cc4a2d3bca"
          ]
        },
        "id": "RiPKE4XBX5mZ",
        "outputId": "8c35f000-85bd-4a1d-c7ad-bc5c756fe7dd"
      },
      "execution_count": 6,
      "outputs": [
        {
          "output_type": "stream",
          "name": "stdout",
          "text": [
            "\n",
            "=== Histórico de Acessos ===\n"
          ]
        },
        {
          "output_type": "display_data",
          "data": {
            "text/plain": [
              "<pandas.io.formats.style.Styler at 0x7ec0050e1190>"
            ],
            "text/html": [
              "<style type=\"text/css\">\n",
              "#T_271aa_row0_col0, #T_271aa_row0_col1, #T_271aa_row0_col2, #T_271aa_row1_col0, #T_271aa_row1_col1, #T_271aa_row1_col2, #T_271aa_row2_col0, #T_271aa_row2_col1, #T_271aa_row2_col2, #T_271aa_row3_col0, #T_271aa_row3_col1, #T_271aa_row3_col2, #T_271aa_row4_col0, #T_271aa_row4_col1, #T_271aa_row4_col2, #T_271aa_row5_col0, #T_271aa_row5_col1, #T_271aa_row5_col2, #T_271aa_row6_col0, #T_271aa_row6_col1, #T_271aa_row6_col2 {\n",
              "  text-align: center;\n",
              "}\n",
              "#T_271aa_row0_col3, #T_271aa_row1_col3, #T_271aa_row2_col3, #T_271aa_row3_col3, #T_271aa_row4_col3, #T_271aa_row6_col3 {\n",
              "  background-color: lightcoral;\n",
              "  text-align: center;\n",
              "  text-align: center;\n",
              "}\n",
              "#T_271aa_row5_col3 {\n",
              "  background-color: lightgreen;\n",
              "  text-align: center;\n",
              "  text-align: center;\n",
              "}\n",
              "</style>\n",
              "<table id=\"T_271aa\" class=\"dataframe\">\n",
              "  <thead>\n",
              "    <tr>\n",
              "      <th class=\"blank level0\" >&nbsp;</th>\n",
              "      <th id=\"T_271aa_level0_col0\" class=\"col_heading level0 col0\" >addr</th>\n",
              "      <th id=\"T_271aa_level0_col1\" class=\"col_heading level0 col1\" >group</th>\n",
              "      <th id=\"T_271aa_level0_col2\" class=\"col_heading level0 col2\" >idx_line</th>\n",
              "      <th id=\"T_271aa_level0_col3\" class=\"col_heading level0 col3\" >result</th>\n",
              "    </tr>\n",
              "  </thead>\n",
              "  <tbody>\n",
              "    <tr>\n",
              "      <th id=\"T_271aa_level0_row0\" class=\"row_heading level0 row0\" >0</th>\n",
              "      <td id=\"T_271aa_row0_col0\" class=\"data row0 col0\" >0x00032E21</td>\n",
              "      <td id=\"T_271aa_row0_col1\" class=\"data row0 col1\" >0</td>\n",
              "      <td id=\"T_271aa_row0_col2\" class=\"data row0 col2\" >0</td>\n",
              "      <td id=\"T_271aa_row0_col3\" class=\"data row0 col3\" >MISS</td>\n",
              "    </tr>\n",
              "    <tr>\n",
              "      <th id=\"T_271aa_level0_row1\" class=\"row_heading level0 row1\" >1</th>\n",
              "      <td id=\"T_271aa_row1_col0\" class=\"data row1 col0\" >0x0001AF22</td>\n",
              "      <td id=\"T_271aa_row1_col1\" class=\"data row1 col1\" >0</td>\n",
              "      <td id=\"T_271aa_row1_col2\" class=\"data row1 col2\" >1</td>\n",
              "      <td id=\"T_271aa_row1_col3\" class=\"data row1 col3\" >MISS</td>\n",
              "    </tr>\n",
              "    <tr>\n",
              "      <th id=\"T_271aa_level0_row2\" class=\"row_heading level0 row2\" >2</th>\n",
              "      <td id=\"T_271aa_row2_col0\" class=\"data row2 col0\" >0x000DE72E</td>\n",
              "      <td id=\"T_271aa_row2_col1\" class=\"data row2 col1\" >0</td>\n",
              "      <td id=\"T_271aa_row2_col2\" class=\"data row2 col2\" >2</td>\n",
              "      <td id=\"T_271aa_row2_col3\" class=\"data row2 col3\" >MISS</td>\n",
              "    </tr>\n",
              "    <tr>\n",
              "      <th id=\"T_271aa_level0_row3\" class=\"row_heading level0 row3\" >3</th>\n",
              "      <td id=\"T_271aa_row3_col0\" class=\"data row3 col0\" >0x000A3CC4</td>\n",
              "      <td id=\"T_271aa_row3_col1\" class=\"data row3 col1\" >0</td>\n",
              "      <td id=\"T_271aa_row3_col2\" class=\"data row3 col2\" >3</td>\n",
              "      <td id=\"T_271aa_row3_col3\" class=\"data row3 col3\" >MISS</td>\n",
              "    </tr>\n",
              "    <tr>\n",
              "      <th id=\"T_271aa_level0_row4\" class=\"row_heading level0 row4\" >4</th>\n",
              "      <td id=\"T_271aa_row4_col0\" class=\"data row4 col0\" >0x0001BE63</td>\n",
              "      <td id=\"T_271aa_row4_col1\" class=\"data row4 col1\" >0</td>\n",
              "      <td id=\"T_271aa_row4_col2\" class=\"data row4 col2\" >0</td>\n",
              "      <td id=\"T_271aa_row4_col3\" class=\"data row4 col3\" >MISS</td>\n",
              "    </tr>\n",
              "    <tr>\n",
              "      <th id=\"T_271aa_level0_row5\" class=\"row_heading level0 row5\" >5</th>\n",
              "      <td id=\"T_271aa_row5_col0\" class=\"data row5 col0\" >0x0001BE63</td>\n",
              "      <td id=\"T_271aa_row5_col1\" class=\"data row5 col1\" >0</td>\n",
              "      <td id=\"T_271aa_row5_col2\" class=\"data row5 col2\" >0</td>\n",
              "      <td id=\"T_271aa_row5_col3\" class=\"data row5 col3\" >HIT</td>\n",
              "    </tr>\n",
              "    <tr>\n",
              "      <th id=\"T_271aa_level0_row6\" class=\"row_heading level0 row6\" >6</th>\n",
              "      <td id=\"T_271aa_row6_col0\" class=\"data row6 col0\" >0x0005EA82</td>\n",
              "      <td id=\"T_271aa_row6_col1\" class=\"data row6 col1\" >0</td>\n",
              "      <td id=\"T_271aa_row6_col2\" class=\"data row6 col2\" >1</td>\n",
              "      <td id=\"T_271aa_row6_col3\" class=\"data row6 col3\" >MISS</td>\n",
              "    </tr>\n",
              "  </tbody>\n",
              "</table>\n"
            ]
          },
          "metadata": {}
        },
        {
          "output_type": "stream",
          "name": "stdout",
          "text": [
            "\n",
            "HITs: 1\n",
            "MISSes: 6\n",
            "\n",
            "=== Estado Final da Cache ===\n"
          ]
        },
        {
          "output_type": "display_data",
          "data": {
            "text/plain": [
              "<pandas.io.formats.style.Styler at 0x7ec005122d90>"
            ],
            "text/html": [
              "<style type=\"text/css\">\n",
              "#T_ab041_row0_col0, #T_ab041_row0_col1, #T_ab041_row1_col0, #T_ab041_row1_col1, #T_ab041_row2_col0, #T_ab041_row2_col1, #T_ab041_row3_col0, #T_ab041_row3_col1 {\n",
              "  text-align: center;\n",
              "}\n",
              "#T_ab041_row0_col2, #T_ab041_row1_col2, #T_ab041_row2_col2, #T_ab041_row3_col2 {\n",
              "  text-align: center;\n",
              "  text-align: center;\n",
              "}\n",
              "</style>\n",
              "<table id=\"T_ab041\" class=\"dataframe\">\n",
              "  <thead>\n",
              "    <tr>\n",
              "      <th class=\"blank level0\" >&nbsp;</th>\n",
              "      <th id=\"T_ab041_level0_col0\" class=\"col_heading level0 col0\" >group</th>\n",
              "      <th id=\"T_ab041_level0_col1\" class=\"col_heading level0 col1\" >idx_line</th>\n",
              "      <th id=\"T_ab041_level0_col2\" class=\"col_heading level0 col2\" >addr</th>\n",
              "    </tr>\n",
              "  </thead>\n",
              "  <tbody>\n",
              "    <tr>\n",
              "      <th id=\"T_ab041_level0_row0\" class=\"row_heading level0 row0\" >0</th>\n",
              "      <td id=\"T_ab041_row0_col0\" class=\"data row0 col0\" >0</td>\n",
              "      <td id=\"T_ab041_row0_col1\" class=\"data row0 col1\" >0</td>\n",
              "      <td id=\"T_ab041_row0_col2\" class=\"data row0 col2\" >0x0001BE63</td>\n",
              "    </tr>\n",
              "    <tr>\n",
              "      <th id=\"T_ab041_level0_row1\" class=\"row_heading level0 row1\" >1</th>\n",
              "      <td id=\"T_ab041_row1_col0\" class=\"data row1 col0\" >0</td>\n",
              "      <td id=\"T_ab041_row1_col1\" class=\"data row1 col1\" >1</td>\n",
              "      <td id=\"T_ab041_row1_col2\" class=\"data row1 col2\" >0x0005EA82</td>\n",
              "    </tr>\n",
              "    <tr>\n",
              "      <th id=\"T_ab041_level0_row2\" class=\"row_heading level0 row2\" >2</th>\n",
              "      <td id=\"T_ab041_row2_col0\" class=\"data row2 col0\" >0</td>\n",
              "      <td id=\"T_ab041_row2_col1\" class=\"data row2 col1\" >2</td>\n",
              "      <td id=\"T_ab041_row2_col2\" class=\"data row2 col2\" >0x000DE72E</td>\n",
              "    </tr>\n",
              "    <tr>\n",
              "      <th id=\"T_ab041_level0_row3\" class=\"row_heading level0 row3\" >3</th>\n",
              "      <td id=\"T_ab041_row3_col0\" class=\"data row3 col0\" >0</td>\n",
              "      <td id=\"T_ab041_row3_col1\" class=\"data row3 col1\" >3</td>\n",
              "      <td id=\"T_ab041_row3_col2\" class=\"data row3 col2\" >0x000A3CC4</td>\n",
              "    </tr>\n",
              "  </tbody>\n",
              "</table>\n"
            ]
          },
          "metadata": {}
        },
        {
          "output_type": "stream",
          "name": "stdout",
          "text": [
            "\n",
            "=== Evolução da Cache (passo a passo) ===\n"
          ]
        },
        {
          "output_type": "display_data",
          "data": {
            "text/plain": [
              "IntSlider(value=0, continuous_update=False, description='Passo:', max=7)"
            ],
            "application/vnd.jupyter.widget-view+json": {
              "version_major": 2,
              "version_minor": 0,
              "model_id": "a3e2165d4f4d4e27bc3334984d572249"
            }
          },
          "metadata": {}
        },
        {
          "output_type": "display_data",
          "data": {
            "text/plain": [
              "Output()"
            ],
            "application/vnd.jupyter.widget-view+json": {
              "version_major": 2,
              "version_minor": 0,
              "model_id": "a846cd605840413083c300c92264b6bb"
            }
          },
          "metadata": {}
        }
      ]
    },
    {
      "cell_type": "markdown",
      "source": [
        "### **EXEMPLO 4**"
      ],
      "metadata": {
        "id": "ETTJJpoDYEUf"
      }
    },
    {
      "cell_type": "code",
      "source": [
        "# Parâmetros de entrada\n",
        "cache_size = 4096\n",
        "line_size = 1024\n",
        "associativity = 4\n",
        "\n",
        "entrada4 = [\n",
        "  '0x0CB886CA',\n",
        "  '0x06BC89BA',\n",
        "  '0x379CBAD1',\n",
        "  '0x28F3123B',\n",
        "  '0x06F98ED5',\n",
        "  '0x06F98ED8',\n",
        "  '0x17AA08A2',\n",
        "  '0x06BC89BA'\n",
        "]\n",
        "\n",
        "simulator = SimuladorCache(cache_size, line_size, associativity)\n",
        "for addr in entrada4:\n",
        "    simulator.acessar_cache(addr)\n",
        "\n",
        "history = simulator.obter_historico()\n",
        "imprimir_resultados(history, cache_size, line_size, associativity  )"
      ],
      "metadata": {
        "colab": {
          "base_uri": "https://localhost:8080/",
          "height": 664,
          "referenced_widgets": [
            "b118031263134c4b8fa3b0f1719efb2b",
            "65d6ade523514a169283637dfdb10ab5",
            "3bac1e3c7ba94a2894200e472cbaa9bb",
            "69be28a445fb402a97dcb92e8592255c",
            "e48e2c7ba3164c7ba3b276250e25d679"
          ]
        },
        "outputId": "7ef107fe-2d90-4927-aa48-33b9c38065c1",
        "id": "h2-TNcvDYLL_"
      },
      "execution_count": 7,
      "outputs": [
        {
          "output_type": "stream",
          "name": "stdout",
          "text": [
            "\n",
            "=== Histórico de Acessos ===\n"
          ]
        },
        {
          "output_type": "display_data",
          "data": {
            "text/plain": [
              "<pandas.io.formats.style.Styler at 0x7ec00510d9d0>"
            ],
            "text/html": [
              "<style type=\"text/css\">\n",
              "#T_177a1_row0_col0, #T_177a1_row0_col1, #T_177a1_row0_col2, #T_177a1_row1_col0, #T_177a1_row1_col1, #T_177a1_row1_col2, #T_177a1_row2_col0, #T_177a1_row2_col1, #T_177a1_row2_col2, #T_177a1_row3_col0, #T_177a1_row3_col1, #T_177a1_row3_col2, #T_177a1_row4_col0, #T_177a1_row4_col1, #T_177a1_row4_col2, #T_177a1_row5_col0, #T_177a1_row5_col1, #T_177a1_row5_col2, #T_177a1_row6_col0, #T_177a1_row6_col1, #T_177a1_row6_col2, #T_177a1_row7_col0, #T_177a1_row7_col1, #T_177a1_row7_col2 {\n",
              "  text-align: center;\n",
              "}\n",
              "#T_177a1_row0_col3, #T_177a1_row1_col3, #T_177a1_row2_col3, #T_177a1_row3_col3, #T_177a1_row4_col3, #T_177a1_row6_col3, #T_177a1_row7_col3 {\n",
              "  background-color: lightcoral;\n",
              "  text-align: center;\n",
              "  text-align: center;\n",
              "}\n",
              "#T_177a1_row5_col3 {\n",
              "  background-color: lightgreen;\n",
              "  text-align: center;\n",
              "  text-align: center;\n",
              "}\n",
              "</style>\n",
              "<table id=\"T_177a1\" class=\"dataframe\">\n",
              "  <thead>\n",
              "    <tr>\n",
              "      <th class=\"blank level0\" >&nbsp;</th>\n",
              "      <th id=\"T_177a1_level0_col0\" class=\"col_heading level0 col0\" >addr</th>\n",
              "      <th id=\"T_177a1_level0_col1\" class=\"col_heading level0 col1\" >group</th>\n",
              "      <th id=\"T_177a1_level0_col2\" class=\"col_heading level0 col2\" >idx_line</th>\n",
              "      <th id=\"T_177a1_level0_col3\" class=\"col_heading level0 col3\" >result</th>\n",
              "    </tr>\n",
              "  </thead>\n",
              "  <tbody>\n",
              "    <tr>\n",
              "      <th id=\"T_177a1_level0_row0\" class=\"row_heading level0 row0\" >0</th>\n",
              "      <td id=\"T_177a1_row0_col0\" class=\"data row0 col0\" >0x00032E21</td>\n",
              "      <td id=\"T_177a1_row0_col1\" class=\"data row0 col1\" >0</td>\n",
              "      <td id=\"T_177a1_row0_col2\" class=\"data row0 col2\" >0</td>\n",
              "      <td id=\"T_177a1_row0_col3\" class=\"data row0 col3\" >MISS</td>\n",
              "    </tr>\n",
              "    <tr>\n",
              "      <th id=\"T_177a1_level0_row1\" class=\"row_heading level0 row1\" >1</th>\n",
              "      <td id=\"T_177a1_row1_col0\" class=\"data row1 col0\" >0x0001AF22</td>\n",
              "      <td id=\"T_177a1_row1_col1\" class=\"data row1 col1\" >0</td>\n",
              "      <td id=\"T_177a1_row1_col2\" class=\"data row1 col2\" >1</td>\n",
              "      <td id=\"T_177a1_row1_col3\" class=\"data row1 col3\" >MISS</td>\n",
              "    </tr>\n",
              "    <tr>\n",
              "      <th id=\"T_177a1_level0_row2\" class=\"row_heading level0 row2\" >2</th>\n",
              "      <td id=\"T_177a1_row2_col0\" class=\"data row2 col0\" >0x000DE72E</td>\n",
              "      <td id=\"T_177a1_row2_col1\" class=\"data row2 col1\" >0</td>\n",
              "      <td id=\"T_177a1_row2_col2\" class=\"data row2 col2\" >2</td>\n",
              "      <td id=\"T_177a1_row2_col3\" class=\"data row2 col3\" >MISS</td>\n",
              "    </tr>\n",
              "    <tr>\n",
              "      <th id=\"T_177a1_level0_row3\" class=\"row_heading level0 row3\" >3</th>\n",
              "      <td id=\"T_177a1_row3_col0\" class=\"data row3 col0\" >0x000A3CC4</td>\n",
              "      <td id=\"T_177a1_row3_col1\" class=\"data row3 col1\" >0</td>\n",
              "      <td id=\"T_177a1_row3_col2\" class=\"data row3 col2\" >3</td>\n",
              "      <td id=\"T_177a1_row3_col3\" class=\"data row3 col3\" >MISS</td>\n",
              "    </tr>\n",
              "    <tr>\n",
              "      <th id=\"T_177a1_level0_row4\" class=\"row_heading level0 row4\" >4</th>\n",
              "      <td id=\"T_177a1_row4_col0\" class=\"data row4 col0\" >0x0001BE63</td>\n",
              "      <td id=\"T_177a1_row4_col1\" class=\"data row4 col1\" >0</td>\n",
              "      <td id=\"T_177a1_row4_col2\" class=\"data row4 col2\" >0</td>\n",
              "      <td id=\"T_177a1_row4_col3\" class=\"data row4 col3\" >MISS</td>\n",
              "    </tr>\n",
              "    <tr>\n",
              "      <th id=\"T_177a1_level0_row5\" class=\"row_heading level0 row5\" >5</th>\n",
              "      <td id=\"T_177a1_row5_col0\" class=\"data row5 col0\" >0x0001BE63</td>\n",
              "      <td id=\"T_177a1_row5_col1\" class=\"data row5 col1\" >0</td>\n",
              "      <td id=\"T_177a1_row5_col2\" class=\"data row5 col2\" >0</td>\n",
              "      <td id=\"T_177a1_row5_col3\" class=\"data row5 col3\" >HIT</td>\n",
              "    </tr>\n",
              "    <tr>\n",
              "      <th id=\"T_177a1_level0_row6\" class=\"row_heading level0 row6\" >6</th>\n",
              "      <td id=\"T_177a1_row6_col0\" class=\"data row6 col0\" >0x0005EA82</td>\n",
              "      <td id=\"T_177a1_row6_col1\" class=\"data row6 col1\" >0</td>\n",
              "      <td id=\"T_177a1_row6_col2\" class=\"data row6 col2\" >1</td>\n",
              "      <td id=\"T_177a1_row6_col3\" class=\"data row6 col3\" >MISS</td>\n",
              "    </tr>\n",
              "    <tr>\n",
              "      <th id=\"T_177a1_level0_row7\" class=\"row_heading level0 row7\" >7</th>\n",
              "      <td id=\"T_177a1_row7_col0\" class=\"data row7 col0\" >0x0001AF22</td>\n",
              "      <td id=\"T_177a1_row7_col1\" class=\"data row7 col1\" >0</td>\n",
              "      <td id=\"T_177a1_row7_col2\" class=\"data row7 col2\" >2</td>\n",
              "      <td id=\"T_177a1_row7_col3\" class=\"data row7 col3\" >MISS</td>\n",
              "    </tr>\n",
              "  </tbody>\n",
              "</table>\n"
            ]
          },
          "metadata": {}
        },
        {
          "output_type": "stream",
          "name": "stdout",
          "text": [
            "\n",
            "HITs: 1\n",
            "MISSes: 7\n",
            "\n",
            "=== Estado Final da Cache ===\n"
          ]
        },
        {
          "output_type": "display_data",
          "data": {
            "text/plain": [
              "<pandas.io.formats.style.Styler at 0x7ec0050e3c10>"
            ],
            "text/html": [
              "<style type=\"text/css\">\n",
              "#T_cd0e5_row0_col0, #T_cd0e5_row0_col1, #T_cd0e5_row1_col0, #T_cd0e5_row1_col1, #T_cd0e5_row2_col0, #T_cd0e5_row2_col1, #T_cd0e5_row3_col0, #T_cd0e5_row3_col1 {\n",
              "  text-align: center;\n",
              "}\n",
              "#T_cd0e5_row0_col2, #T_cd0e5_row1_col2, #T_cd0e5_row2_col2, #T_cd0e5_row3_col2 {\n",
              "  text-align: center;\n",
              "  text-align: center;\n",
              "}\n",
              "</style>\n",
              "<table id=\"T_cd0e5\" class=\"dataframe\">\n",
              "  <thead>\n",
              "    <tr>\n",
              "      <th class=\"blank level0\" >&nbsp;</th>\n",
              "      <th id=\"T_cd0e5_level0_col0\" class=\"col_heading level0 col0\" >group</th>\n",
              "      <th id=\"T_cd0e5_level0_col1\" class=\"col_heading level0 col1\" >idx_line</th>\n",
              "      <th id=\"T_cd0e5_level0_col2\" class=\"col_heading level0 col2\" >addr</th>\n",
              "    </tr>\n",
              "  </thead>\n",
              "  <tbody>\n",
              "    <tr>\n",
              "      <th id=\"T_cd0e5_level0_row0\" class=\"row_heading level0 row0\" >0</th>\n",
              "      <td id=\"T_cd0e5_row0_col0\" class=\"data row0 col0\" >0</td>\n",
              "      <td id=\"T_cd0e5_row0_col1\" class=\"data row0 col1\" >0</td>\n",
              "      <td id=\"T_cd0e5_row0_col2\" class=\"data row0 col2\" >0x0001BE63</td>\n",
              "    </tr>\n",
              "    <tr>\n",
              "      <th id=\"T_cd0e5_level0_row1\" class=\"row_heading level0 row1\" >1</th>\n",
              "      <td id=\"T_cd0e5_row1_col0\" class=\"data row1 col0\" >0</td>\n",
              "      <td id=\"T_cd0e5_row1_col1\" class=\"data row1 col1\" >1</td>\n",
              "      <td id=\"T_cd0e5_row1_col2\" class=\"data row1 col2\" >0x0005EA82</td>\n",
              "    </tr>\n",
              "    <tr>\n",
              "      <th id=\"T_cd0e5_level0_row2\" class=\"row_heading level0 row2\" >2</th>\n",
              "      <td id=\"T_cd0e5_row2_col0\" class=\"data row2 col0\" >0</td>\n",
              "      <td id=\"T_cd0e5_row2_col1\" class=\"data row2 col1\" >2</td>\n",
              "      <td id=\"T_cd0e5_row2_col2\" class=\"data row2 col2\" >0x0001AF22</td>\n",
              "    </tr>\n",
              "    <tr>\n",
              "      <th id=\"T_cd0e5_level0_row3\" class=\"row_heading level0 row3\" >3</th>\n",
              "      <td id=\"T_cd0e5_row3_col0\" class=\"data row3 col0\" >0</td>\n",
              "      <td id=\"T_cd0e5_row3_col1\" class=\"data row3 col1\" >3</td>\n",
              "      <td id=\"T_cd0e5_row3_col2\" class=\"data row3 col2\" >0x000A3CC4</td>\n",
              "    </tr>\n",
              "  </tbody>\n",
              "</table>\n"
            ]
          },
          "metadata": {}
        },
        {
          "output_type": "stream",
          "name": "stdout",
          "text": [
            "\n",
            "=== Evolução da Cache (passo a passo) ===\n"
          ]
        },
        {
          "output_type": "display_data",
          "data": {
            "text/plain": [
              "IntSlider(value=0, continuous_update=False, description='Passo:', max=8)"
            ],
            "application/vnd.jupyter.widget-view+json": {
              "version_major": 2,
              "version_minor": 0,
              "model_id": "b118031263134c4b8fa3b0f1719efb2b"
            }
          },
          "metadata": {}
        },
        {
          "output_type": "display_data",
          "data": {
            "text/plain": [
              "Output()"
            ],
            "application/vnd.jupyter.widget-view+json": {
              "version_major": 2,
              "version_minor": 0,
              "model_id": "69be28a445fb402a97dcb92e8592255c"
            }
          },
          "metadata": {}
        }
      ]
    },
    {
      "cell_type": "markdown",
      "source": [
        "### **EXEMPLO 5**"
      ],
      "metadata": {
        "id": "b5PbrlTCYGmF"
      }
    },
    {
      "cell_type": "code",
      "source": [
        "# Parâmetros de entrada\n",
        "cache_size = 4096\n",
        "line_size = 1024\n",
        "associativity = 2\n",
        "\n",
        "entrada5 = [\n",
        "  '0x0CB886CA',\n",
        "  '0x06BC89BA'\n",
        "]\n",
        "\n",
        "simulator = SimuladorCache(cache_size, line_size, associativity)\n",
        "for addr in entrada5:\n",
        "    simulator.acessar_cache(addr)\n",
        "\n",
        "history = simulator.obter_historico()\n",
        "imprimir_resultados(history, cache_size, line_size, associativity  )"
      ],
      "metadata": {
        "colab": {
          "base_uri": "https://localhost:8080/",
          "height": 475,
          "referenced_widgets": [
            "fc8ebdf0cce04fbd949e752703e69a1e",
            "02ac9f21cd934d83b3672ddc2f504eb7",
            "59b4bacc39834d0883471738764b0a62",
            "b9b53bde31ff4ec691708a9ed85fe45c",
            "0ac21a3939344ec0ac43c390540ec219"
          ]
        },
        "id": "3GumYUjfYZ_G",
        "outputId": "b4ed62f5-01cd-4330-cbd9-5be4cb562240"
      },
      "execution_count": 8,
      "outputs": [
        {
          "output_type": "stream",
          "name": "stdout",
          "text": [
            "\n",
            "=== Histórico de Acessos ===\n"
          ]
        },
        {
          "output_type": "display_data",
          "data": {
            "text/plain": [
              "<pandas.io.formats.style.Styler at 0x7ec005123ad0>"
            ],
            "text/html": [
              "<style type=\"text/css\">\n",
              "#T_73524_row0_col0, #T_73524_row0_col1, #T_73524_row0_col2, #T_73524_row1_col0, #T_73524_row1_col1, #T_73524_row1_col2 {\n",
              "  text-align: center;\n",
              "}\n",
              "#T_73524_row0_col3, #T_73524_row1_col3 {\n",
              "  background-color: lightcoral;\n",
              "  text-align: center;\n",
              "  text-align: center;\n",
              "}\n",
              "</style>\n",
              "<table id=\"T_73524\" class=\"dataframe\">\n",
              "  <thead>\n",
              "    <tr>\n",
              "      <th class=\"blank level0\" >&nbsp;</th>\n",
              "      <th id=\"T_73524_level0_col0\" class=\"col_heading level0 col0\" >addr</th>\n",
              "      <th id=\"T_73524_level0_col1\" class=\"col_heading level0 col1\" >group</th>\n",
              "      <th id=\"T_73524_level0_col2\" class=\"col_heading level0 col2\" >idx_line</th>\n",
              "      <th id=\"T_73524_level0_col3\" class=\"col_heading level0 col3\" >result</th>\n",
              "    </tr>\n",
              "  </thead>\n",
              "  <tbody>\n",
              "    <tr>\n",
              "      <th id=\"T_73524_level0_row0\" class=\"row_heading level0 row0\" >0</th>\n",
              "      <td id=\"T_73524_row0_col0\" class=\"data row0 col0\" >0x00019710</td>\n",
              "      <td id=\"T_73524_row0_col1\" class=\"data row0 col1\" >1</td>\n",
              "      <td id=\"T_73524_row0_col2\" class=\"data row0 col2\" >0</td>\n",
              "      <td id=\"T_73524_row0_col3\" class=\"data row0 col3\" >MISS</td>\n",
              "    </tr>\n",
              "    <tr>\n",
              "      <th id=\"T_73524_level0_row1\" class=\"row_heading level0 row1\" >1</th>\n",
              "      <td id=\"T_73524_row1_col0\" class=\"data row1 col0\" >0x0000D791</td>\n",
              "      <td id=\"T_73524_row1_col1\" class=\"data row1 col1\" >0</td>\n",
              "      <td id=\"T_73524_row1_col2\" class=\"data row1 col2\" >0</td>\n",
              "      <td id=\"T_73524_row1_col3\" class=\"data row1 col3\" >MISS</td>\n",
              "    </tr>\n",
              "  </tbody>\n",
              "</table>\n"
            ]
          },
          "metadata": {}
        },
        {
          "output_type": "stream",
          "name": "stdout",
          "text": [
            "\n",
            "HITs: 0\n",
            "MISSes: 2\n",
            "\n",
            "=== Estado Final da Cache ===\n"
          ]
        },
        {
          "output_type": "display_data",
          "data": {
            "text/plain": [
              "<pandas.io.formats.style.Styler at 0x7ec005131f50>"
            ],
            "text/html": [
              "<style type=\"text/css\">\n",
              "#T_5e5fb_row0_col0, #T_5e5fb_row0_col1, #T_5e5fb_row1_col0, #T_5e5fb_row1_col1, #T_5e5fb_row2_col0, #T_5e5fb_row2_col1, #T_5e5fb_row3_col0, #T_5e5fb_row3_col1 {\n",
              "  text-align: center;\n",
              "}\n",
              "#T_5e5fb_row0_col2, #T_5e5fb_row2_col2 {\n",
              "  text-align: center;\n",
              "  text-align: center;\n",
              "}\n",
              "#T_5e5fb_row1_col2, #T_5e5fb_row3_col2 {\n",
              "  background-color: lightgray;\n",
              "  text-align: center;\n",
              "  text-align: center;\n",
              "}\n",
              "</style>\n",
              "<table id=\"T_5e5fb\" class=\"dataframe\">\n",
              "  <thead>\n",
              "    <tr>\n",
              "      <th class=\"blank level0\" >&nbsp;</th>\n",
              "      <th id=\"T_5e5fb_level0_col0\" class=\"col_heading level0 col0\" >group</th>\n",
              "      <th id=\"T_5e5fb_level0_col1\" class=\"col_heading level0 col1\" >idx_line</th>\n",
              "      <th id=\"T_5e5fb_level0_col2\" class=\"col_heading level0 col2\" >addr</th>\n",
              "    </tr>\n",
              "  </thead>\n",
              "  <tbody>\n",
              "    <tr>\n",
              "      <th id=\"T_5e5fb_level0_row0\" class=\"row_heading level0 row0\" >0</th>\n",
              "      <td id=\"T_5e5fb_row0_col0\" class=\"data row0 col0\" >0</td>\n",
              "      <td id=\"T_5e5fb_row0_col1\" class=\"data row0 col1\" >0</td>\n",
              "      <td id=\"T_5e5fb_row0_col2\" class=\"data row0 col2\" >0x0000D791</td>\n",
              "    </tr>\n",
              "    <tr>\n",
              "      <th id=\"T_5e5fb_level0_row1\" class=\"row_heading level0 row1\" >1</th>\n",
              "      <td id=\"T_5e5fb_row1_col0\" class=\"data row1 col0\" >0</td>\n",
              "      <td id=\"T_5e5fb_row1_col1\" class=\"data row1 col1\" >1</td>\n",
              "      <td id=\"T_5e5fb_row1_col2\" class=\"data row1 col2\" >-</td>\n",
              "    </tr>\n",
              "    <tr>\n",
              "      <th id=\"T_5e5fb_level0_row2\" class=\"row_heading level0 row2\" >2</th>\n",
              "      <td id=\"T_5e5fb_row2_col0\" class=\"data row2 col0\" >1</td>\n",
              "      <td id=\"T_5e5fb_row2_col1\" class=\"data row2 col1\" >0</td>\n",
              "      <td id=\"T_5e5fb_row2_col2\" class=\"data row2 col2\" >0x00019710</td>\n",
              "    </tr>\n",
              "    <tr>\n",
              "      <th id=\"T_5e5fb_level0_row3\" class=\"row_heading level0 row3\" >3</th>\n",
              "      <td id=\"T_5e5fb_row3_col0\" class=\"data row3 col0\" >1</td>\n",
              "      <td id=\"T_5e5fb_row3_col1\" class=\"data row3 col1\" >1</td>\n",
              "      <td id=\"T_5e5fb_row3_col2\" class=\"data row3 col2\" >-</td>\n",
              "    </tr>\n",
              "  </tbody>\n",
              "</table>\n"
            ]
          },
          "metadata": {}
        },
        {
          "output_type": "stream",
          "name": "stdout",
          "text": [
            "\n",
            "=== Evolução da Cache (passo a passo) ===\n"
          ]
        },
        {
          "output_type": "display_data",
          "data": {
            "text/plain": [
              "IntSlider(value=0, continuous_update=False, description='Passo:', max=2)"
            ],
            "application/vnd.jupyter.widget-view+json": {
              "version_major": 2,
              "version_minor": 0,
              "model_id": "fc8ebdf0cce04fbd949e752703e69a1e"
            }
          },
          "metadata": {}
        },
        {
          "output_type": "display_data",
          "data": {
            "text/plain": [
              "Output()"
            ],
            "application/vnd.jupyter.widget-view+json": {
              "version_major": 2,
              "version_minor": 0,
              "model_id": "b9b53bde31ff4ec691708a9ed85fe45c"
            }
          },
          "metadata": {}
        }
      ]
    },
    {
      "cell_type": "markdown",
      "source": [
        "### **EXEMPLO 6**"
      ],
      "metadata": {
        "id": "-T4MvH42YGue"
      }
    },
    {
      "cell_type": "code",
      "source": [
        "# Parâmetros de entrada\n",
        "cache_size = 4096\n",
        "line_size = 1024\n",
        "associativity = 1\n",
        "\n",
        "entrada6 = [\n",
        "  '0x0CB886CA',\n",
        "  '0x06BC89BA',\n",
        "  '0x379CBAD1',\n",
        "  '0x28F3123B',\n",
        "  '0x06F98ED5',\n",
        "  '0x06F98ED8',\n",
        "  '0x17AA08A2',\n",
        "]\n",
        "\n",
        "simulator = SimuladorCache(cache_size, line_size, associativity)\n",
        "for addr in entrada6:\n",
        "    simulator.acessar_cache(addr)\n",
        "\n",
        "history = simulator.obter_historico()\n",
        "imprimir_resultados(history, cache_size, line_size, associativity  )"
      ],
      "metadata": {
        "colab": {
          "base_uri": "https://localhost:8080/",
          "height": 632,
          "referenced_widgets": [
            "6154ecce403c4817af4bbb0631fd8aa9",
            "2373d5f45067437b8a46e4c3346bffc8",
            "7a0eae4e9d504216b946a68d7fe5b1a9",
            "2b1cb6ce6a45458fb0e441bbd9882a4f",
            "98e22e142d514c90a9ba40ddc20759b3"
          ]
        },
        "id": "Fg8ysUqqYnDu",
        "outputId": "df4ed99a-bf0a-43cc-a9f1-1eddd062e056"
      },
      "execution_count": 9,
      "outputs": [
        {
          "output_type": "stream",
          "name": "stdout",
          "text": [
            "\n",
            "=== Histórico de Acessos ===\n"
          ]
        },
        {
          "output_type": "display_data",
          "data": {
            "text/plain": [
              "<pandas.io.formats.style.Styler at 0x7ec0050e1ad0>"
            ],
            "text/html": [
              "<style type=\"text/css\">\n",
              "#T_a142a_row0_col0, #T_a142a_row0_col1, #T_a142a_row0_col2, #T_a142a_row1_col0, #T_a142a_row1_col1, #T_a142a_row1_col2, #T_a142a_row2_col0, #T_a142a_row2_col1, #T_a142a_row2_col2, #T_a142a_row3_col0, #T_a142a_row3_col1, #T_a142a_row3_col2, #T_a142a_row4_col0, #T_a142a_row4_col1, #T_a142a_row4_col2, #T_a142a_row5_col0, #T_a142a_row5_col1, #T_a142a_row5_col2, #T_a142a_row6_col0, #T_a142a_row6_col1, #T_a142a_row6_col2 {\n",
              "  text-align: center;\n",
              "}\n",
              "#T_a142a_row0_col3, #T_a142a_row1_col3, #T_a142a_row2_col3, #T_a142a_row3_col3, #T_a142a_row4_col3, #T_a142a_row6_col3 {\n",
              "  background-color: lightcoral;\n",
              "  text-align: center;\n",
              "  text-align: center;\n",
              "}\n",
              "#T_a142a_row5_col3 {\n",
              "  background-color: lightgreen;\n",
              "  text-align: center;\n",
              "  text-align: center;\n",
              "}\n",
              "</style>\n",
              "<table id=\"T_a142a\" class=\"dataframe\">\n",
              "  <thead>\n",
              "    <tr>\n",
              "      <th class=\"blank level0\" >&nbsp;</th>\n",
              "      <th id=\"T_a142a_level0_col0\" class=\"col_heading level0 col0\" >addr</th>\n",
              "      <th id=\"T_a142a_level0_col1\" class=\"col_heading level0 col1\" >group</th>\n",
              "      <th id=\"T_a142a_level0_col2\" class=\"col_heading level0 col2\" >idx_line</th>\n",
              "      <th id=\"T_a142a_level0_col3\" class=\"col_heading level0 col3\" >result</th>\n",
              "    </tr>\n",
              "  </thead>\n",
              "  <tbody>\n",
              "    <tr>\n",
              "      <th id=\"T_a142a_level0_row0\" class=\"row_heading level0 row0\" >0</th>\n",
              "      <td id=\"T_a142a_row0_col0\" class=\"data row0 col0\" >0x0000CB88</td>\n",
              "      <td id=\"T_a142a_row0_col1\" class=\"data row0 col1\" >1</td>\n",
              "      <td id=\"T_a142a_row0_col2\" class=\"data row0 col2\" >0</td>\n",
              "      <td id=\"T_a142a_row0_col3\" class=\"data row0 col3\" >MISS</td>\n",
              "    </tr>\n",
              "    <tr>\n",
              "      <th id=\"T_a142a_level0_row1\" class=\"row_heading level0 row1\" >1</th>\n",
              "      <td id=\"T_a142a_row1_col0\" class=\"data row1 col0\" >0x00006BC8</td>\n",
              "      <td id=\"T_a142a_row1_col1\" class=\"data row1 col1\" >2</td>\n",
              "      <td id=\"T_a142a_row1_col2\" class=\"data row1 col2\" >0</td>\n",
              "      <td id=\"T_a142a_row1_col3\" class=\"data row1 col3\" >MISS</td>\n",
              "    </tr>\n",
              "    <tr>\n",
              "      <th id=\"T_a142a_level0_row2\" class=\"row_heading level0 row2\" >2</th>\n",
              "      <td id=\"T_a142a_row2_col0\" class=\"data row2 col0\" >0x000379CB</td>\n",
              "      <td id=\"T_a142a_row2_col1\" class=\"data row2 col1\" >2</td>\n",
              "      <td id=\"T_a142a_row2_col2\" class=\"data row2 col2\" >0</td>\n",
              "      <td id=\"T_a142a_row2_col3\" class=\"data row2 col3\" >MISS</td>\n",
              "    </tr>\n",
              "    <tr>\n",
              "      <th id=\"T_a142a_level0_row3\" class=\"row_heading level0 row3\" >3</th>\n",
              "      <td id=\"T_a142a_row3_col0\" class=\"data row3 col0\" >0x00028F31</td>\n",
              "      <td id=\"T_a142a_row3_col1\" class=\"data row3 col1\" >0</td>\n",
              "      <td id=\"T_a142a_row3_col2\" class=\"data row3 col2\" >0</td>\n",
              "      <td id=\"T_a142a_row3_col3\" class=\"data row3 col3\" >MISS</td>\n",
              "    </tr>\n",
              "    <tr>\n",
              "      <th id=\"T_a142a_level0_row4\" class=\"row_heading level0 row4\" >4</th>\n",
              "      <td id=\"T_a142a_row4_col0\" class=\"data row4 col0\" >0x00006F98</td>\n",
              "      <td id=\"T_a142a_row4_col1\" class=\"data row4 col1\" >3</td>\n",
              "      <td id=\"T_a142a_row4_col2\" class=\"data row4 col2\" >0</td>\n",
              "      <td id=\"T_a142a_row4_col3\" class=\"data row4 col3\" >MISS</td>\n",
              "    </tr>\n",
              "    <tr>\n",
              "      <th id=\"T_a142a_level0_row5\" class=\"row_heading level0 row5\" >5</th>\n",
              "      <td id=\"T_a142a_row5_col0\" class=\"data row5 col0\" >0x00006F98</td>\n",
              "      <td id=\"T_a142a_row5_col1\" class=\"data row5 col1\" >3</td>\n",
              "      <td id=\"T_a142a_row5_col2\" class=\"data row5 col2\" >0</td>\n",
              "      <td id=\"T_a142a_row5_col3\" class=\"data row5 col3\" >HIT</td>\n",
              "    </tr>\n",
              "    <tr>\n",
              "      <th id=\"T_a142a_level0_row6\" class=\"row_heading level0 row6\" >6</th>\n",
              "      <td id=\"T_a142a_row6_col0\" class=\"data row6 col0\" >0x00017AA0</td>\n",
              "      <td id=\"T_a142a_row6_col1\" class=\"data row6 col1\" >2</td>\n",
              "      <td id=\"T_a142a_row6_col2\" class=\"data row6 col2\" >0</td>\n",
              "      <td id=\"T_a142a_row6_col3\" class=\"data row6 col3\" >MISS</td>\n",
              "    </tr>\n",
              "  </tbody>\n",
              "</table>\n"
            ]
          },
          "metadata": {}
        },
        {
          "output_type": "stream",
          "name": "stdout",
          "text": [
            "\n",
            "HITs: 1\n",
            "MISSes: 6\n",
            "\n",
            "=== Estado Final da Cache ===\n"
          ]
        },
        {
          "output_type": "display_data",
          "data": {
            "text/plain": [
              "<pandas.io.formats.style.Styler at 0x7ec005132fd0>"
            ],
            "text/html": [
              "<style type=\"text/css\">\n",
              "#T_1f20d_row0_col0, #T_1f20d_row0_col1, #T_1f20d_row1_col0, #T_1f20d_row1_col1, #T_1f20d_row2_col0, #T_1f20d_row2_col1, #T_1f20d_row3_col0, #T_1f20d_row3_col1 {\n",
              "  text-align: center;\n",
              "}\n",
              "#T_1f20d_row0_col2, #T_1f20d_row1_col2, #T_1f20d_row2_col2, #T_1f20d_row3_col2 {\n",
              "  text-align: center;\n",
              "  text-align: center;\n",
              "}\n",
              "</style>\n",
              "<table id=\"T_1f20d\" class=\"dataframe\">\n",
              "  <thead>\n",
              "    <tr>\n",
              "      <th class=\"blank level0\" >&nbsp;</th>\n",
              "      <th id=\"T_1f20d_level0_col0\" class=\"col_heading level0 col0\" >group</th>\n",
              "      <th id=\"T_1f20d_level0_col1\" class=\"col_heading level0 col1\" >idx_line</th>\n",
              "      <th id=\"T_1f20d_level0_col2\" class=\"col_heading level0 col2\" >addr</th>\n",
              "    </tr>\n",
              "  </thead>\n",
              "  <tbody>\n",
              "    <tr>\n",
              "      <th id=\"T_1f20d_level0_row0\" class=\"row_heading level0 row0\" >0</th>\n",
              "      <td id=\"T_1f20d_row0_col0\" class=\"data row0 col0\" >0</td>\n",
              "      <td id=\"T_1f20d_row0_col1\" class=\"data row0 col1\" >0</td>\n",
              "      <td id=\"T_1f20d_row0_col2\" class=\"data row0 col2\" >0x00028F31</td>\n",
              "    </tr>\n",
              "    <tr>\n",
              "      <th id=\"T_1f20d_level0_row1\" class=\"row_heading level0 row1\" >1</th>\n",
              "      <td id=\"T_1f20d_row1_col0\" class=\"data row1 col0\" >1</td>\n",
              "      <td id=\"T_1f20d_row1_col1\" class=\"data row1 col1\" >0</td>\n",
              "      <td id=\"T_1f20d_row1_col2\" class=\"data row1 col2\" >0x0000CB88</td>\n",
              "    </tr>\n",
              "    <tr>\n",
              "      <th id=\"T_1f20d_level0_row2\" class=\"row_heading level0 row2\" >2</th>\n",
              "      <td id=\"T_1f20d_row2_col0\" class=\"data row2 col0\" >2</td>\n",
              "      <td id=\"T_1f20d_row2_col1\" class=\"data row2 col1\" >0</td>\n",
              "      <td id=\"T_1f20d_row2_col2\" class=\"data row2 col2\" >0x00017AA0</td>\n",
              "    </tr>\n",
              "    <tr>\n",
              "      <th id=\"T_1f20d_level0_row3\" class=\"row_heading level0 row3\" >3</th>\n",
              "      <td id=\"T_1f20d_row3_col0\" class=\"data row3 col0\" >3</td>\n",
              "      <td id=\"T_1f20d_row3_col1\" class=\"data row3 col1\" >0</td>\n",
              "      <td id=\"T_1f20d_row3_col2\" class=\"data row3 col2\" >0x00006F98</td>\n",
              "    </tr>\n",
              "  </tbody>\n",
              "</table>\n"
            ]
          },
          "metadata": {}
        },
        {
          "output_type": "stream",
          "name": "stdout",
          "text": [
            "\n",
            "=== Evolução da Cache (passo a passo) ===\n"
          ]
        },
        {
          "output_type": "display_data",
          "data": {
            "text/plain": [
              "IntSlider(value=0, continuous_update=False, description='Passo:', max=7)"
            ],
            "application/vnd.jupyter.widget-view+json": {
              "version_major": 2,
              "version_minor": 0,
              "model_id": "6154ecce403c4817af4bbb0631fd8aa9"
            }
          },
          "metadata": {}
        },
        {
          "output_type": "display_data",
          "data": {
            "text/plain": [
              "Output()"
            ],
            "application/vnd.jupyter.widget-view+json": {
              "version_major": 2,
              "version_minor": 0,
              "model_id": "2b1cb6ce6a45458fb0e441bbd9882a4f"
            }
          },
          "metadata": {}
        }
      ]
    }
  ],
  "metadata": {
    "colab": {
      "provenance": []
    },
    "kernelspec": {
      "display_name": "Python 3",
      "name": "python3"
    },
    "widgets": {
      "application/vnd.jupyter.widget-state+json": {
        "92dc426c74424357b08626ed981a8e43": {
          "model_module": "@jupyter-widgets/controls",
          "model_name": "IntSliderModel",
          "model_module_version": "1.5.0",
          "state": {
            "_dom_classes": [],
            "_model_module": "@jupyter-widgets/controls",
            "_model_module_version": "1.5.0",
            "_model_name": "IntSliderModel",
            "_view_count": null,
            "_view_module": "@jupyter-widgets/controls",
            "_view_module_version": "1.5.0",
            "_view_name": "IntSliderView",
            "continuous_update": false,
            "description": "Passo:",
            "description_tooltip": null,
            "disabled": false,
            "layout": "IPY_MODEL_479ba7a23b184bc5a67fc529942bc8f8",
            "max": 5,
            "min": 0,
            "orientation": "horizontal",
            "readout": true,
            "readout_format": "d",
            "step": 1,
            "style": "IPY_MODEL_f613b78004d44f25868b4aeef6352d06",
            "value": 0
          }
        },
        "479ba7a23b184bc5a67fc529942bc8f8": {
          "model_module": "@jupyter-widgets/base",
          "model_name": "LayoutModel",
          "model_module_version": "1.2.0",
          "state": {
            "_model_module": "@jupyter-widgets/base",
            "_model_module_version": "1.2.0",
            "_model_name": "LayoutModel",
            "_view_count": null,
            "_view_module": "@jupyter-widgets/base",
            "_view_module_version": "1.2.0",
            "_view_name": "LayoutView",
            "align_content": null,
            "align_items": null,
            "align_self": null,
            "border": null,
            "bottom": null,
            "display": null,
            "flex": null,
            "flex_flow": null,
            "grid_area": null,
            "grid_auto_columns": null,
            "grid_auto_flow": null,
            "grid_auto_rows": null,
            "grid_column": null,
            "grid_gap": null,
            "grid_row": null,
            "grid_template_areas": null,
            "grid_template_columns": null,
            "grid_template_rows": null,
            "height": null,
            "justify_content": null,
            "justify_items": null,
            "left": null,
            "margin": null,
            "max_height": null,
            "max_width": null,
            "min_height": null,
            "min_width": null,
            "object_fit": null,
            "object_position": null,
            "order": null,
            "overflow": null,
            "overflow_x": null,
            "overflow_y": null,
            "padding": null,
            "right": null,
            "top": null,
            "visibility": null,
            "width": null
          }
        },
        "f613b78004d44f25868b4aeef6352d06": {
          "model_module": "@jupyter-widgets/controls",
          "model_name": "SliderStyleModel",
          "model_module_version": "1.5.0",
          "state": {
            "_model_module": "@jupyter-widgets/controls",
            "_model_module_version": "1.5.0",
            "_model_name": "SliderStyleModel",
            "_view_count": null,
            "_view_module": "@jupyter-widgets/base",
            "_view_module_version": "1.2.0",
            "_view_name": "StyleView",
            "description_width": "",
            "handle_color": null
          }
        },
        "8b3b625cc91146f395390be1e4dd8018": {
          "model_module": "@jupyter-widgets/output",
          "model_name": "OutputModel",
          "model_module_version": "1.0.0",
          "state": {
            "_dom_classes": [],
            "_model_module": "@jupyter-widgets/output",
            "_model_module_version": "1.0.0",
            "_model_name": "OutputModel",
            "_view_count": null,
            "_view_module": "@jupyter-widgets/output",
            "_view_module_version": "1.0.0",
            "_view_name": "OutputView",
            "layout": "IPY_MODEL_52cfabc382ed4ccca3838745a04a7e90",
            "msg_id": "",
            "outputs": [
              {
                "output_type": "stream",
                "name": "stdout",
                "text": [
                  "⚠️ Nenhum acesso realizado ainda.\n"
                ]
              }
            ]
          }
        },
        "52cfabc382ed4ccca3838745a04a7e90": {
          "model_module": "@jupyter-widgets/base",
          "model_name": "LayoutModel",
          "model_module_version": "1.2.0",
          "state": {
            "_model_module": "@jupyter-widgets/base",
            "_model_module_version": "1.2.0",
            "_model_name": "LayoutModel",
            "_view_count": null,
            "_view_module": "@jupyter-widgets/base",
            "_view_module_version": "1.2.0",
            "_view_name": "LayoutView",
            "align_content": null,
            "align_items": null,
            "align_self": null,
            "border": null,
            "bottom": null,
            "display": null,
            "flex": null,
            "flex_flow": null,
            "grid_area": null,
            "grid_auto_columns": null,
            "grid_auto_flow": null,
            "grid_auto_rows": null,
            "grid_column": null,
            "grid_gap": null,
            "grid_row": null,
            "grid_template_areas": null,
            "grid_template_columns": null,
            "grid_template_rows": null,
            "height": null,
            "justify_content": null,
            "justify_items": null,
            "left": null,
            "margin": null,
            "max_height": null,
            "max_width": null,
            "min_height": null,
            "min_width": null,
            "object_fit": null,
            "object_position": null,
            "order": null,
            "overflow": null,
            "overflow_x": null,
            "overflow_y": null,
            "padding": null,
            "right": null,
            "top": null,
            "visibility": null,
            "width": null
          }
        },
        "fb3bd1651e2147899dfcdad38f9caffa": {
          "model_module": "@jupyter-widgets/controls",
          "model_name": "IntSliderModel",
          "model_module_version": "1.5.0",
          "state": {
            "_dom_classes": [],
            "_model_module": "@jupyter-widgets/controls",
            "_model_module_version": "1.5.0",
            "_model_name": "IntSliderModel",
            "_view_count": null,
            "_view_module": "@jupyter-widgets/controls",
            "_view_module_version": "1.5.0",
            "_view_name": "IntSliderView",
            "continuous_update": false,
            "description": "Passo:",
            "description_tooltip": null,
            "disabled": false,
            "layout": "IPY_MODEL_9c9fd9337aa34dabb41630b957700813",
            "max": 7,
            "min": 0,
            "orientation": "horizontal",
            "readout": true,
            "readout_format": "d",
            "step": 1,
            "style": "IPY_MODEL_27e62dd8866c428f955303a692cce951",
            "value": 0
          }
        },
        "9c9fd9337aa34dabb41630b957700813": {
          "model_module": "@jupyter-widgets/base",
          "model_name": "LayoutModel",
          "model_module_version": "1.2.0",
          "state": {
            "_model_module": "@jupyter-widgets/base",
            "_model_module_version": "1.2.0",
            "_model_name": "LayoutModel",
            "_view_count": null,
            "_view_module": "@jupyter-widgets/base",
            "_view_module_version": "1.2.0",
            "_view_name": "LayoutView",
            "align_content": null,
            "align_items": null,
            "align_self": null,
            "border": null,
            "bottom": null,
            "display": null,
            "flex": null,
            "flex_flow": null,
            "grid_area": null,
            "grid_auto_columns": null,
            "grid_auto_flow": null,
            "grid_auto_rows": null,
            "grid_column": null,
            "grid_gap": null,
            "grid_row": null,
            "grid_template_areas": null,
            "grid_template_columns": null,
            "grid_template_rows": null,
            "height": null,
            "justify_content": null,
            "justify_items": null,
            "left": null,
            "margin": null,
            "max_height": null,
            "max_width": null,
            "min_height": null,
            "min_width": null,
            "object_fit": null,
            "object_position": null,
            "order": null,
            "overflow": null,
            "overflow_x": null,
            "overflow_y": null,
            "padding": null,
            "right": null,
            "top": null,
            "visibility": null,
            "width": null
          }
        },
        "27e62dd8866c428f955303a692cce951": {
          "model_module": "@jupyter-widgets/controls",
          "model_name": "SliderStyleModel",
          "model_module_version": "1.5.0",
          "state": {
            "_model_module": "@jupyter-widgets/controls",
            "_model_module_version": "1.5.0",
            "_model_name": "SliderStyleModel",
            "_view_count": null,
            "_view_module": "@jupyter-widgets/base",
            "_view_module_version": "1.2.0",
            "_view_name": "StyleView",
            "description_width": "",
            "handle_color": null
          }
        },
        "8b4a47633bc44f3b803f3202dc58554d": {
          "model_module": "@jupyter-widgets/output",
          "model_name": "OutputModel",
          "model_module_version": "1.0.0",
          "state": {
            "_dom_classes": [],
            "_model_module": "@jupyter-widgets/output",
            "_model_module_version": "1.0.0",
            "_model_name": "OutputModel",
            "_view_count": null,
            "_view_module": "@jupyter-widgets/output",
            "_view_module_version": "1.0.0",
            "_view_name": "OutputView",
            "layout": "IPY_MODEL_ff674ae6e79e461bae1242b3d501d709",
            "msg_id": "",
            "outputs": [
              {
                "output_type": "stream",
                "name": "stdout",
                "text": [
                  "⚠️ Nenhum acesso realizado ainda.\n"
                ]
              }
            ]
          }
        },
        "ff674ae6e79e461bae1242b3d501d709": {
          "model_module": "@jupyter-widgets/base",
          "model_name": "LayoutModel",
          "model_module_version": "1.2.0",
          "state": {
            "_model_module": "@jupyter-widgets/base",
            "_model_module_version": "1.2.0",
            "_model_name": "LayoutModel",
            "_view_count": null,
            "_view_module": "@jupyter-widgets/base",
            "_view_module_version": "1.2.0",
            "_view_name": "LayoutView",
            "align_content": null,
            "align_items": null,
            "align_self": null,
            "border": null,
            "bottom": null,
            "display": null,
            "flex": null,
            "flex_flow": null,
            "grid_area": null,
            "grid_auto_columns": null,
            "grid_auto_flow": null,
            "grid_auto_rows": null,
            "grid_column": null,
            "grid_gap": null,
            "grid_row": null,
            "grid_template_areas": null,
            "grid_template_columns": null,
            "grid_template_rows": null,
            "height": null,
            "justify_content": null,
            "justify_items": null,
            "left": null,
            "margin": null,
            "max_height": null,
            "max_width": null,
            "min_height": null,
            "min_width": null,
            "object_fit": null,
            "object_position": null,
            "order": null,
            "overflow": null,
            "overflow_x": null,
            "overflow_y": null,
            "padding": null,
            "right": null,
            "top": null,
            "visibility": null,
            "width": null
          }
        },
        "a3e2165d4f4d4e27bc3334984d572249": {
          "model_module": "@jupyter-widgets/controls",
          "model_name": "IntSliderModel",
          "model_module_version": "1.5.0",
          "state": {
            "_dom_classes": [],
            "_model_module": "@jupyter-widgets/controls",
            "_model_module_version": "1.5.0",
            "_model_name": "IntSliderModel",
            "_view_count": null,
            "_view_module": "@jupyter-widgets/controls",
            "_view_module_version": "1.5.0",
            "_view_name": "IntSliderView",
            "continuous_update": false,
            "description": "Passo:",
            "description_tooltip": null,
            "disabled": false,
            "layout": "IPY_MODEL_f264c30c35c94d5c9a596fee8671863b",
            "max": 7,
            "min": 0,
            "orientation": "horizontal",
            "readout": true,
            "readout_format": "d",
            "step": 1,
            "style": "IPY_MODEL_79d329e0f02d4f58be28a982b42017fd",
            "value": 0
          }
        },
        "f264c30c35c94d5c9a596fee8671863b": {
          "model_module": "@jupyter-widgets/base",
          "model_name": "LayoutModel",
          "model_module_version": "1.2.0",
          "state": {
            "_model_module": "@jupyter-widgets/base",
            "_model_module_version": "1.2.0",
            "_model_name": "LayoutModel",
            "_view_count": null,
            "_view_module": "@jupyter-widgets/base",
            "_view_module_version": "1.2.0",
            "_view_name": "LayoutView",
            "align_content": null,
            "align_items": null,
            "align_self": null,
            "border": null,
            "bottom": null,
            "display": null,
            "flex": null,
            "flex_flow": null,
            "grid_area": null,
            "grid_auto_columns": null,
            "grid_auto_flow": null,
            "grid_auto_rows": null,
            "grid_column": null,
            "grid_gap": null,
            "grid_row": null,
            "grid_template_areas": null,
            "grid_template_columns": null,
            "grid_template_rows": null,
            "height": null,
            "justify_content": null,
            "justify_items": null,
            "left": null,
            "margin": null,
            "max_height": null,
            "max_width": null,
            "min_height": null,
            "min_width": null,
            "object_fit": null,
            "object_position": null,
            "order": null,
            "overflow": null,
            "overflow_x": null,
            "overflow_y": null,
            "padding": null,
            "right": null,
            "top": null,
            "visibility": null,
            "width": null
          }
        },
        "79d329e0f02d4f58be28a982b42017fd": {
          "model_module": "@jupyter-widgets/controls",
          "model_name": "SliderStyleModel",
          "model_module_version": "1.5.0",
          "state": {
            "_model_module": "@jupyter-widgets/controls",
            "_model_module_version": "1.5.0",
            "_model_name": "SliderStyleModel",
            "_view_count": null,
            "_view_module": "@jupyter-widgets/base",
            "_view_module_version": "1.2.0",
            "_view_name": "StyleView",
            "description_width": "",
            "handle_color": null
          }
        },
        "a846cd605840413083c300c92264b6bb": {
          "model_module": "@jupyter-widgets/output",
          "model_name": "OutputModel",
          "model_module_version": "1.0.0",
          "state": {
            "_dom_classes": [],
            "_model_module": "@jupyter-widgets/output",
            "_model_module_version": "1.0.0",
            "_model_name": "OutputModel",
            "_view_count": null,
            "_view_module": "@jupyter-widgets/output",
            "_view_module_version": "1.0.0",
            "_view_name": "OutputView",
            "layout": "IPY_MODEL_3f7d9001d4c6438a8de9f4cc4a2d3bca",
            "msg_id": "",
            "outputs": [
              {
                "output_type": "stream",
                "name": "stdout",
                "text": [
                  "⚠️ Nenhum acesso realizado ainda.\n"
                ]
              }
            ]
          }
        },
        "3f7d9001d4c6438a8de9f4cc4a2d3bca": {
          "model_module": "@jupyter-widgets/base",
          "model_name": "LayoutModel",
          "model_module_version": "1.2.0",
          "state": {
            "_model_module": "@jupyter-widgets/base",
            "_model_module_version": "1.2.0",
            "_model_name": "LayoutModel",
            "_view_count": null,
            "_view_module": "@jupyter-widgets/base",
            "_view_module_version": "1.2.0",
            "_view_name": "LayoutView",
            "align_content": null,
            "align_items": null,
            "align_self": null,
            "border": null,
            "bottom": null,
            "display": null,
            "flex": null,
            "flex_flow": null,
            "grid_area": null,
            "grid_auto_columns": null,
            "grid_auto_flow": null,
            "grid_auto_rows": null,
            "grid_column": null,
            "grid_gap": null,
            "grid_row": null,
            "grid_template_areas": null,
            "grid_template_columns": null,
            "grid_template_rows": null,
            "height": null,
            "justify_content": null,
            "justify_items": null,
            "left": null,
            "margin": null,
            "max_height": null,
            "max_width": null,
            "min_height": null,
            "min_width": null,
            "object_fit": null,
            "object_position": null,
            "order": null,
            "overflow": null,
            "overflow_x": null,
            "overflow_y": null,
            "padding": null,
            "right": null,
            "top": null,
            "visibility": null,
            "width": null
          }
        },
        "b118031263134c4b8fa3b0f1719efb2b": {
          "model_module": "@jupyter-widgets/controls",
          "model_name": "IntSliderModel",
          "model_module_version": "1.5.0",
          "state": {
            "_dom_classes": [],
            "_model_module": "@jupyter-widgets/controls",
            "_model_module_version": "1.5.0",
            "_model_name": "IntSliderModel",
            "_view_count": null,
            "_view_module": "@jupyter-widgets/controls",
            "_view_module_version": "1.5.0",
            "_view_name": "IntSliderView",
            "continuous_update": false,
            "description": "Passo:",
            "description_tooltip": null,
            "disabled": false,
            "layout": "IPY_MODEL_65d6ade523514a169283637dfdb10ab5",
            "max": 8,
            "min": 0,
            "orientation": "horizontal",
            "readout": true,
            "readout_format": "d",
            "step": 1,
            "style": "IPY_MODEL_3bac1e3c7ba94a2894200e472cbaa9bb",
            "value": 0
          }
        },
        "65d6ade523514a169283637dfdb10ab5": {
          "model_module": "@jupyter-widgets/base",
          "model_name": "LayoutModel",
          "model_module_version": "1.2.0",
          "state": {
            "_model_module": "@jupyter-widgets/base",
            "_model_module_version": "1.2.0",
            "_model_name": "LayoutModel",
            "_view_count": null,
            "_view_module": "@jupyter-widgets/base",
            "_view_module_version": "1.2.0",
            "_view_name": "LayoutView",
            "align_content": null,
            "align_items": null,
            "align_self": null,
            "border": null,
            "bottom": null,
            "display": null,
            "flex": null,
            "flex_flow": null,
            "grid_area": null,
            "grid_auto_columns": null,
            "grid_auto_flow": null,
            "grid_auto_rows": null,
            "grid_column": null,
            "grid_gap": null,
            "grid_row": null,
            "grid_template_areas": null,
            "grid_template_columns": null,
            "grid_template_rows": null,
            "height": null,
            "justify_content": null,
            "justify_items": null,
            "left": null,
            "margin": null,
            "max_height": null,
            "max_width": null,
            "min_height": null,
            "min_width": null,
            "object_fit": null,
            "object_position": null,
            "order": null,
            "overflow": null,
            "overflow_x": null,
            "overflow_y": null,
            "padding": null,
            "right": null,
            "top": null,
            "visibility": null,
            "width": null
          }
        },
        "3bac1e3c7ba94a2894200e472cbaa9bb": {
          "model_module": "@jupyter-widgets/controls",
          "model_name": "SliderStyleModel",
          "model_module_version": "1.5.0",
          "state": {
            "_model_module": "@jupyter-widgets/controls",
            "_model_module_version": "1.5.0",
            "_model_name": "SliderStyleModel",
            "_view_count": null,
            "_view_module": "@jupyter-widgets/base",
            "_view_module_version": "1.2.0",
            "_view_name": "StyleView",
            "description_width": "",
            "handle_color": null
          }
        },
        "69be28a445fb402a97dcb92e8592255c": {
          "model_module": "@jupyter-widgets/output",
          "model_name": "OutputModel",
          "model_module_version": "1.0.0",
          "state": {
            "_dom_classes": [],
            "_model_module": "@jupyter-widgets/output",
            "_model_module_version": "1.0.0",
            "_model_name": "OutputModel",
            "_view_count": null,
            "_view_module": "@jupyter-widgets/output",
            "_view_module_version": "1.0.0",
            "_view_name": "OutputView",
            "layout": "IPY_MODEL_e48e2c7ba3164c7ba3b276250e25d679",
            "msg_id": "",
            "outputs": [
              {
                "output_type": "stream",
                "name": "stdout",
                "text": [
                  "⚠️ Nenhum acesso realizado ainda.\n"
                ]
              }
            ]
          }
        },
        "e48e2c7ba3164c7ba3b276250e25d679": {
          "model_module": "@jupyter-widgets/base",
          "model_name": "LayoutModel",
          "model_module_version": "1.2.0",
          "state": {
            "_model_module": "@jupyter-widgets/base",
            "_model_module_version": "1.2.0",
            "_model_name": "LayoutModel",
            "_view_count": null,
            "_view_module": "@jupyter-widgets/base",
            "_view_module_version": "1.2.0",
            "_view_name": "LayoutView",
            "align_content": null,
            "align_items": null,
            "align_self": null,
            "border": null,
            "bottom": null,
            "display": null,
            "flex": null,
            "flex_flow": null,
            "grid_area": null,
            "grid_auto_columns": null,
            "grid_auto_flow": null,
            "grid_auto_rows": null,
            "grid_column": null,
            "grid_gap": null,
            "grid_row": null,
            "grid_template_areas": null,
            "grid_template_columns": null,
            "grid_template_rows": null,
            "height": null,
            "justify_content": null,
            "justify_items": null,
            "left": null,
            "margin": null,
            "max_height": null,
            "max_width": null,
            "min_height": null,
            "min_width": null,
            "object_fit": null,
            "object_position": null,
            "order": null,
            "overflow": null,
            "overflow_x": null,
            "overflow_y": null,
            "padding": null,
            "right": null,
            "top": null,
            "visibility": null,
            "width": null
          }
        },
        "fc8ebdf0cce04fbd949e752703e69a1e": {
          "model_module": "@jupyter-widgets/controls",
          "model_name": "IntSliderModel",
          "model_module_version": "1.5.0",
          "state": {
            "_dom_classes": [],
            "_model_module": "@jupyter-widgets/controls",
            "_model_module_version": "1.5.0",
            "_model_name": "IntSliderModel",
            "_view_count": null,
            "_view_module": "@jupyter-widgets/controls",
            "_view_module_version": "1.5.0",
            "_view_name": "IntSliderView",
            "continuous_update": false,
            "description": "Passo:",
            "description_tooltip": null,
            "disabled": false,
            "layout": "IPY_MODEL_02ac9f21cd934d83b3672ddc2f504eb7",
            "max": 2,
            "min": 0,
            "orientation": "horizontal",
            "readout": true,
            "readout_format": "d",
            "step": 1,
            "style": "IPY_MODEL_59b4bacc39834d0883471738764b0a62",
            "value": 0
          }
        },
        "02ac9f21cd934d83b3672ddc2f504eb7": {
          "model_module": "@jupyter-widgets/base",
          "model_name": "LayoutModel",
          "model_module_version": "1.2.0",
          "state": {
            "_model_module": "@jupyter-widgets/base",
            "_model_module_version": "1.2.0",
            "_model_name": "LayoutModel",
            "_view_count": null,
            "_view_module": "@jupyter-widgets/base",
            "_view_module_version": "1.2.0",
            "_view_name": "LayoutView",
            "align_content": null,
            "align_items": null,
            "align_self": null,
            "border": null,
            "bottom": null,
            "display": null,
            "flex": null,
            "flex_flow": null,
            "grid_area": null,
            "grid_auto_columns": null,
            "grid_auto_flow": null,
            "grid_auto_rows": null,
            "grid_column": null,
            "grid_gap": null,
            "grid_row": null,
            "grid_template_areas": null,
            "grid_template_columns": null,
            "grid_template_rows": null,
            "height": null,
            "justify_content": null,
            "justify_items": null,
            "left": null,
            "margin": null,
            "max_height": null,
            "max_width": null,
            "min_height": null,
            "min_width": null,
            "object_fit": null,
            "object_position": null,
            "order": null,
            "overflow": null,
            "overflow_x": null,
            "overflow_y": null,
            "padding": null,
            "right": null,
            "top": null,
            "visibility": null,
            "width": null
          }
        },
        "59b4bacc39834d0883471738764b0a62": {
          "model_module": "@jupyter-widgets/controls",
          "model_name": "SliderStyleModel",
          "model_module_version": "1.5.0",
          "state": {
            "_model_module": "@jupyter-widgets/controls",
            "_model_module_version": "1.5.0",
            "_model_name": "SliderStyleModel",
            "_view_count": null,
            "_view_module": "@jupyter-widgets/base",
            "_view_module_version": "1.2.0",
            "_view_name": "StyleView",
            "description_width": "",
            "handle_color": null
          }
        },
        "b9b53bde31ff4ec691708a9ed85fe45c": {
          "model_module": "@jupyter-widgets/output",
          "model_name": "OutputModel",
          "model_module_version": "1.0.0",
          "state": {
            "_dom_classes": [],
            "_model_module": "@jupyter-widgets/output",
            "_model_module_version": "1.0.0",
            "_model_name": "OutputModel",
            "_view_count": null,
            "_view_module": "@jupyter-widgets/output",
            "_view_module_version": "1.0.0",
            "_view_name": "OutputView",
            "layout": "IPY_MODEL_0ac21a3939344ec0ac43c390540ec219",
            "msg_id": "",
            "outputs": [
              {
                "output_type": "stream",
                "name": "stdout",
                "text": [
                  "⚠️ Nenhum acesso realizado ainda.\n"
                ]
              }
            ]
          }
        },
        "0ac21a3939344ec0ac43c390540ec219": {
          "model_module": "@jupyter-widgets/base",
          "model_name": "LayoutModel",
          "model_module_version": "1.2.0",
          "state": {
            "_model_module": "@jupyter-widgets/base",
            "_model_module_version": "1.2.0",
            "_model_name": "LayoutModel",
            "_view_count": null,
            "_view_module": "@jupyter-widgets/base",
            "_view_module_version": "1.2.0",
            "_view_name": "LayoutView",
            "align_content": null,
            "align_items": null,
            "align_self": null,
            "border": null,
            "bottom": null,
            "display": null,
            "flex": null,
            "flex_flow": null,
            "grid_area": null,
            "grid_auto_columns": null,
            "grid_auto_flow": null,
            "grid_auto_rows": null,
            "grid_column": null,
            "grid_gap": null,
            "grid_row": null,
            "grid_template_areas": null,
            "grid_template_columns": null,
            "grid_template_rows": null,
            "height": null,
            "justify_content": null,
            "justify_items": null,
            "left": null,
            "margin": null,
            "max_height": null,
            "max_width": null,
            "min_height": null,
            "min_width": null,
            "object_fit": null,
            "object_position": null,
            "order": null,
            "overflow": null,
            "overflow_x": null,
            "overflow_y": null,
            "padding": null,
            "right": null,
            "top": null,
            "visibility": null,
            "width": null
          }
        },
        "6154ecce403c4817af4bbb0631fd8aa9": {
          "model_module": "@jupyter-widgets/controls",
          "model_name": "IntSliderModel",
          "model_module_version": "1.5.0",
          "state": {
            "_dom_classes": [],
            "_model_module": "@jupyter-widgets/controls",
            "_model_module_version": "1.5.0",
            "_model_name": "IntSliderModel",
            "_view_count": null,
            "_view_module": "@jupyter-widgets/controls",
            "_view_module_version": "1.5.0",
            "_view_name": "IntSliderView",
            "continuous_update": false,
            "description": "Passo:",
            "description_tooltip": null,
            "disabled": false,
            "layout": "IPY_MODEL_2373d5f45067437b8a46e4c3346bffc8",
            "max": 7,
            "min": 0,
            "orientation": "horizontal",
            "readout": true,
            "readout_format": "d",
            "step": 1,
            "style": "IPY_MODEL_7a0eae4e9d504216b946a68d7fe5b1a9",
            "value": 0
          }
        },
        "2373d5f45067437b8a46e4c3346bffc8": {
          "model_module": "@jupyter-widgets/base",
          "model_name": "LayoutModel",
          "model_module_version": "1.2.0",
          "state": {
            "_model_module": "@jupyter-widgets/base",
            "_model_module_version": "1.2.0",
            "_model_name": "LayoutModel",
            "_view_count": null,
            "_view_module": "@jupyter-widgets/base",
            "_view_module_version": "1.2.0",
            "_view_name": "LayoutView",
            "align_content": null,
            "align_items": null,
            "align_self": null,
            "border": null,
            "bottom": null,
            "display": null,
            "flex": null,
            "flex_flow": null,
            "grid_area": null,
            "grid_auto_columns": null,
            "grid_auto_flow": null,
            "grid_auto_rows": null,
            "grid_column": null,
            "grid_gap": null,
            "grid_row": null,
            "grid_template_areas": null,
            "grid_template_columns": null,
            "grid_template_rows": null,
            "height": null,
            "justify_content": null,
            "justify_items": null,
            "left": null,
            "margin": null,
            "max_height": null,
            "max_width": null,
            "min_height": null,
            "min_width": null,
            "object_fit": null,
            "object_position": null,
            "order": null,
            "overflow": null,
            "overflow_x": null,
            "overflow_y": null,
            "padding": null,
            "right": null,
            "top": null,
            "visibility": null,
            "width": null
          }
        },
        "7a0eae4e9d504216b946a68d7fe5b1a9": {
          "model_module": "@jupyter-widgets/controls",
          "model_name": "SliderStyleModel",
          "model_module_version": "1.5.0",
          "state": {
            "_model_module": "@jupyter-widgets/controls",
            "_model_module_version": "1.5.0",
            "_model_name": "SliderStyleModel",
            "_view_count": null,
            "_view_module": "@jupyter-widgets/base",
            "_view_module_version": "1.2.0",
            "_view_name": "StyleView",
            "description_width": "",
            "handle_color": null
          }
        },
        "2b1cb6ce6a45458fb0e441bbd9882a4f": {
          "model_module": "@jupyter-widgets/output",
          "model_name": "OutputModel",
          "model_module_version": "1.0.0",
          "state": {
            "_dom_classes": [],
            "_model_module": "@jupyter-widgets/output",
            "_model_module_version": "1.0.0",
            "_model_name": "OutputModel",
            "_view_count": null,
            "_view_module": "@jupyter-widgets/output",
            "_view_module_version": "1.0.0",
            "_view_name": "OutputView",
            "layout": "IPY_MODEL_98e22e142d514c90a9ba40ddc20759b3",
            "msg_id": "",
            "outputs": [
              {
                "output_type": "stream",
                "name": "stdout",
                "text": [
                  "⚠️ Nenhum acesso realizado ainda.\n"
                ]
              }
            ]
          }
        },
        "98e22e142d514c90a9ba40ddc20759b3": {
          "model_module": "@jupyter-widgets/base",
          "model_name": "LayoutModel",
          "model_module_version": "1.2.0",
          "state": {
            "_model_module": "@jupyter-widgets/base",
            "_model_module_version": "1.2.0",
            "_model_name": "LayoutModel",
            "_view_count": null,
            "_view_module": "@jupyter-widgets/base",
            "_view_module_version": "1.2.0",
            "_view_name": "LayoutView",
            "align_content": null,
            "align_items": null,
            "align_self": null,
            "border": null,
            "bottom": null,
            "display": null,
            "flex": null,
            "flex_flow": null,
            "grid_area": null,
            "grid_auto_columns": null,
            "grid_auto_flow": null,
            "grid_auto_rows": null,
            "grid_column": null,
            "grid_gap": null,
            "grid_row": null,
            "grid_template_areas": null,
            "grid_template_columns": null,
            "grid_template_rows": null,
            "height": null,
            "justify_content": null,
            "justify_items": null,
            "left": null,
            "margin": null,
            "max_height": null,
            "max_width": null,
            "min_height": null,
            "min_width": null,
            "object_fit": null,
            "object_position": null,
            "order": null,
            "overflow": null,
            "overflow_x": null,
            "overflow_y": null,
            "padding": null,
            "right": null,
            "top": null,
            "visibility": null,
            "width": null
          }
        }
      }
    }
  },
  "nbformat": 4,
  "nbformat_minor": 0
}