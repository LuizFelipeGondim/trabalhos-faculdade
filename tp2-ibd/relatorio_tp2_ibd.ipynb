{
 "cells": [
  {
   "cell_type": "markdown",
   "id": "af4ad317-9d89-40f5-9eba-a79cf9a7aadd",
   "metadata": {},
   "source": [
    "# 2º Trabalho prático - Introdução a Banco de Dados\n",
    "# Viagens a Serviço do Governo Federal (SCDP) \n"
   ]
  },
  {
   "cell_type": "markdown",
   "id": "4510b44e-815f-4689-9332-a4a60a7ec567",
   "metadata": {
    "jp-MarkdownHeadingCollapsed": true
   },
   "source": [
    "#### Link Streamlit: (https://trabalho-pratico2-ibd.streamlit.app/)\n"
   ]
  },
  {
   "cell_type": "markdown",
   "id": "5ea21438-35ac-4d5d-a6af-3c3cf2aa7f80",
   "metadata": {},
   "source": [
    "# Membros:"
   ]
  },
  {
   "cell_type": "markdown",
   "id": "d30f8cbf-0127-4287-a1c8-3fabcb2efe38",
   "metadata": {},
   "source": [
    "#### Clarice Oliveira Minobolli Teixeira - 2023087761\n",
    "#### João Carlos Ferraz de Sousa - 2023087990\n",
    "#### Luiz Felipe Gondim Araujo - 2023028188\n",
    "#### Matheus Costa Melo Silva - 2023087826\n"
   ]
  },
  {
   "cell_type": "markdown",
   "id": "7254b3de-3b78-4f05-9d28-003706ad3158",
   "metadata": {},
   "source": [
    "# Descrição dos dados"
   ]
  },
  {
   "cell_type": "markdown",
   "id": "80bccacc-0133-4299-9719-e067c66a378a",
   "metadata": {},
   "source": [
    "#### Este estudo foi desenvolvido com base nos dados públicos disponíveis no Sistema de Concessão de Diárias e Passagens (SCDP), acessados diretamente pelo portal de dados do governo federal (dados.gov.br). O SCDP é responsável por gerenciar os processos relacionados às viagens a serviço do Governo Federal, incluindo a concessão de diárias e passagens, garantindo maior controle físico e financeiro dessas operações no âmbito da Administração Pública Federal.\n",
    "\n",
    "#### Para este trabalho, utilizamos especificamente os dados de bilhetes aéreos adquiridos no mês de junho de 2024. Este período foi selecionado por apresentar um volume significativo de informações, suficiente para realizar análises representativas e detalhadas, sem comprometer a eficiência do processamento ou a qualidade das conclusões obtidas.\n",
    "\n",
    "#### Além disso, os dados foram enriquecidos com informações complementares sobre as aeronaves das principais companhias aéreas, como capacidade de assentos, status operacional e certificações emitidas pela ANAC. Essas informações adicionais foram extraídas de fontes públicas confiáveis, incluindo:\n",
    "\n",
    "#### LATAM Airlines Group (https://www.aviacaocomercial.net/frotatam.htm);\n",
    "\n",
    "#### Azul Linhas Aéreas (www.aviacaocomercial.net/frotaazul.htm);\n",
    "\n",
    "#### GOL Linhas Aéreas (https://www.aviacaocomercial.net/frotagol.htm).\n",
    "\n",
    "#### A integração desses dados visou oferecer uma visão mais abrangente e contextualizada sobre as operações aéreas realizadas, permitindo análises mais completas e precisas.\n",
    "\n"
   ]
  },
  {
   "cell_type": "markdown",
   "id": "4bae9ddb-7a5c-4a5d-adfc-ed2833a034f7",
   "metadata": {},
   "source": [
    "# Diagrama ER"
   ]
  },
  {
   "cell_type": "markdown",
   "id": "62199a1a-b6cb-4c97-b9f7-9b9251e42f23",
   "metadata": {},
   "source": [
    "![Diagrama ER](Modelo_ER.jpeg)"
   ]
  },
  {
   "cell_type": "markdown",
   "id": "828ed2ca-c890-448c-b069-520b32e75501",
   "metadata": {
    "jp-MarkdownHeadingCollapsed": true
   },
   "source": [
    "### Entidades presentes:                                                                               \n",
    "#### Órgão \n",
    "#### Bilhete \n",
    "#### Preço\n",
    "#### Penalidade\n",
    "#### Companhia aérea \n",
    "#### Avião"
   ]
  },
  {
   "cell_type": "markdown",
   "id": "6456ce8c-86ea-45a3-9a32-a1eaa5909237",
   "metadata": {},
   "source": [
    "### Relacionamentos presentes:\n",
    "#### Superior - Hierarquia dos Órgãos\n",
    "#### Orgao_bilhete - Órgão e Bilhete \n",
    "#### Bilhete_Penalidade - Bilhete e Penalidade\n",
    "#### Bilhete_Preco - Bilhete e Preço\n",
    "#### Bilhete_companhia - Bilhete e Companhia aérea\n",
    "#### Companhia_aviao - Companhia aérea e avião"
   ]
  },
  {
   "cell_type": "markdown",
   "id": "bfe9e888-3c3f-4e27-ac50-5972a45a1090",
   "metadata": {},
   "source": [
    "### Número de instâncias totais: \n",
    "#### 3954"
   ]
  },
  {
   "cell_type": "markdown",
   "id": "dada32b3-3131-42a3-9660-b02395de8492",
   "metadata": {},
   "source": [
    "# Diagrama Relacional"
   ]
  },
  {
   "cell_type": "markdown",
   "id": "d46016ba-a8fa-4a57-9df2-63115e2d8460",
   "metadata": {},
   "source": [
    "### Tabela: orgao\n",
    "#### codigo_orgao (PK), nome_orgao, codigo_orgao_superior (FK)"
   ]
  },
  {
   "cell_type": "markdown",
   "id": "34ea093e-ebc1-4ddd-8a10-1de3441b5eb1",
   "metadata": {
    "jp-MarkdownHeadingCollapsed": true
   },
   "source": [
    "### Tabela: orgao_bilhete\n",
    "#### localizador (PK), codigo_orgao (PK)"
   ]
  },
  {
   "cell_type": "markdown",
   "id": "c65d49e9-0865-4f8b-b297-fcf7ab636ab3",
   "metadata": {},
   "source": [
    "### Tabela: bilhete\n",
    "#### localizador (PK), data_emissao, situacao_bilhete, valor_bilhete, percentual_desconto_aplicado, valor_tarifa_comercial, valor_tarifa_governo, valor_tarifa_embarque, valor_multas, valor_reembolso, diferenca_tarifa, no_show, remarcado, cancelado, classe_tarifaria, data_embarque, numero_pcdp, id_companhia_aerea (FK)"
   ]
  },
  {
   "cell_type": "markdown",
   "id": "299d3270-64f4-4498-915d-53a0b92a8a3c",
   "metadata": {},
   "source": [
    "### Tabela: companhia_aerea\n",
    "#### id_companhia_aerea (PK), nome_companhia, regra_tarifaria"
   ]
  },
  {
   "cell_type": "markdown",
   "id": "93738471-f02e-481f-a991-728130cb0a21",
   "metadata": {},
   "source": [
    "### Tabela: companhia_aerea\n",
    "#### id_companhia_aerea (PK), id_aviao (PK), inativos, ativos"
   ]
  },
  {
   "cell_type": "markdown",
   "id": "bee303d5-4d90-4b4b-8789-654246de6697",
   "metadata": {
    "jp-MarkdownHeadingCollapsed": true
   },
   "source": [
    "### Tabela: aviao\n",
    "#### id_aviao (PK), modelo, assentos, selo_anac, motor"
   ]
  },
  {
   "cell_type": "markdown",
   "id": "76e6eda2-48e8-47b3-9be6-f16ea6b73bd3",
   "metadata": {},
   "source": [
    "# Consultas"
   ]
  },
  {
   "cell_type": "markdown",
   "id": "b1005c73-713c-4bff-a076-d711c497b2f4",
   "metadata": {},
   "source": [
    "#### As consultas realizadas seguiram a proposta inicial do estudo, abordando aspectos fundamentais relacionados ao uso de bilhetes aéreos pelo governo. No entanto, com a integração de dados adicionais sobre as aeronaves de cada companhia aérea, expandimos o escopo para incluir consultas mais aprofundadas que explorassem essas informações.\n",
    "\n",
    "#### Essas novas consultas permitiram analisar características específicas das aeronaves, como capacidade, status operacional e conformidade com regulamentações, enriquecendo as análises e proporcionando uma visão mais completa da base de dados. Essa abordagem complementou a proposta original, trazendo maior contextualização e relevância aos resultados apresentados."
   ]
  },
  {
   "cell_type": "markdown",
   "id": "242b249b-50f0-43a2-86e2-b505d364cffb",
   "metadata": {},
   "source": [
    "## 6.1 Duas consultas envolvendo seleção e projeção"
   ]
  },
  {
   "cell_type": "markdown",
   "id": "7264e4d6-a1b2-4230-a268-cb765a88ce41",
   "metadata": {},
   "source": [
    "### 6.1.1 Bilhete mais caro"
   ]
  },
  {
   "cell_type": "markdown",
   "id": "06ba9feb-c981-4b74-8f64-3133ecd4c309",
   "metadata": {},
   "source": [
    "#### A consulta identifica o bilhete mais caro registrado na base de dados, considerando apenas bilhetes válidos (não cancelados e sem ocorrência de no-show). As informações retornadas incluem o localizador, o valor do bilhete e a data de embarque, ordenadas pelo valor do bilhete e em ordem decrescente.\n",
    "#### Embora limitada, essa consulta fornece um dado relevante que pode servir como ponto de partida para investigações mais profundas, como:\n",
    "#### Identificar o órgão responsável pela compra do bilhete mais caro.\n",
    "#### Verificar se o custo está associado a um evento ou emergência específica.\n",
    "#### Relacionar o custo elevado às características do voo (companhia, rota, tipo de aeronave)."
   ]
  },
  {
   "cell_type": "code",
   "execution_count": 4,
   "id": "4118f4b3-0f46-49d8-ba56-e879fd639990",
   "metadata": {},
   "outputs": [
    {
     "data": {
      "text/html": [
       "<div>\n",
       "<style scoped>\n",
       "    .dataframe tbody tr th:only-of-type {\n",
       "        vertical-align: middle;\n",
       "    }\n",
       "\n",
       "    .dataframe tbody tr th {\n",
       "        vertical-align: top;\n",
       "    }\n",
       "\n",
       "    .dataframe thead th {\n",
       "        text-align: right;\n",
       "    }\n",
       "</style>\n",
       "<table border=\"1\" class=\"dataframe\">\n",
       "  <thead>\n",
       "    <tr style=\"text-align: right;\">\n",
       "      <th></th>\n",
       "      <th>localizador</th>\n",
       "      <th>valor_bilhete</th>\n",
       "      <th>data_embarque</th>\n",
       "    </tr>\n",
       "  </thead>\n",
       "  <tbody>\n",
       "    <tr>\n",
       "      <th>0</th>\n",
       "      <td>FTWGKW</td>\n",
       "      <td>5847.14</td>\n",
       "      <td>30/06/2024</td>\n",
       "    </tr>\n",
       "  </tbody>\n",
       "</table>\n",
       "</div>"
      ],
      "text/plain": [
       "  localizador  valor_bilhete data_embarque\n",
       "0      FTWGKW        5847.14    30/06/2024"
      ]
     },
     "execution_count": 4,
     "metadata": {},
     "output_type": "execute_result"
    }
   ],
   "source": [
    "query = \"\"\"\n",
    "            SELECT localizador, valor_bilhete, data_embarque\n",
    "            FROM bilhete\n",
    "            WHERE no_show = FALSE OR cancelado = FALSE\n",
    "            ORDER BY valor_bilhete DESC\n",
    "            LIMIT 1\n",
    "        \"\"\"\n",
    "\n",
    "df = pd.read_sql_query(query, connection)\n",
    "df"
   ]
  },
  {
   "cell_type": "markdown",
   "id": "f36921f2-2482-4346-9358-5688dcf2c66b",
   "metadata": {},
   "source": [
    "### 6.1.2 Média de preço dos bilhetes"
   ]
  },
  {
   "cell_type": "markdown",
   "id": "6e75a68e-d2b7-4872-8912-67247b17bff1",
   "metadata": {},
   "source": [
    "#### A consulta tem como objetivo calcular a média do valor dos bilhetes aéreos adquiridos por órgãos registrados no banco de dados. Inicialmente, ela seleciona os códigos dos órgãos a partir da tabela orgao, em seguida, na tabela orgao_bilhete, são identificados os bilhetes comprados por esses órgãos. Por fim, a tabela bilhete é utilizada para calcular a média dos valores desses bilhetes. O resultado final é uma média consolidada dos preços dos bilhetes comprados pelos órgãos.\n",
    "#### O resultado da consulta fornece uma visão global do custo médio dos bilhetes emitidos pelos órgãos. Esse valor é útil para avaliar a eficiência financeira na compra dos bilhetes e também pode ser um indicador de possíveis ajustes no orçamento destinado a viagens aéreas. A média pode ser comparada ao longo do tempo para identificar tendências, como um aumento ou diminuição nos custos."
   ]
  },
  {
   "cell_type": "code",
   "execution_count": 5,
   "id": "5d0b6676-7a62-4a98-a348-36d7b6a10a90",
   "metadata": {},
   "outputs": [
    {
     "data": {
      "text/html": [
       "<div>\n",
       "<style scoped>\n",
       "    .dataframe tbody tr th:only-of-type {\n",
       "        vertical-align: middle;\n",
       "    }\n",
       "\n",
       "    .dataframe tbody tr th {\n",
       "        vertical-align: top;\n",
       "    }\n",
       "\n",
       "    .dataframe thead th {\n",
       "        text-align: right;\n",
       "    }\n",
       "</style>\n",
       "<table border=\"1\" class=\"dataframe\">\n",
       "  <thead>\n",
       "    <tr style=\"text-align: right;\">\n",
       "      <th></th>\n",
       "      <th>media_preco_bilhetes</th>\n",
       "    </tr>\n",
       "  </thead>\n",
       "  <tbody>\n",
       "    <tr>\n",
       "      <th>0</th>\n",
       "      <td>1529.925852</td>\n",
       "    </tr>\n",
       "  </tbody>\n",
       "</table>\n",
       "</div>"
      ],
      "text/plain": [
       "   media_preco_bilhetes\n",
       "0           1529.925852"
      ]
     },
     "execution_count": 5,
     "metadata": {},
     "output_type": "execute_result"
    }
   ],
   "source": [
    "query = \"\"\"\n",
    "            SELECT AVG(valor_bilhete) AS media_preco_bilhetes\n",
    "            FROM bilhete\n",
    "            WHERE localizador IN (\n",
    "                SELECT localizador\n",
    "                FROM orgao_bilhete\n",
    "                WHERE codigo_orgao IN (\n",
    "                    SELECT codigo_orgao\n",
    "                    FROM orgao\n",
    "                )\n",
    "            )\n",
    "        \"\"\"\n",
    "\n",
    "df = pd.read_sql_query(query, connection)\n",
    "df"
   ]
  },
  {
   "cell_type": "markdown",
   "id": "d942c4d2-795a-4b94-817c-c61aa329fb48",
   "metadata": {},
   "source": [
    "## 6.2 Três consultas envolvendo junção de duas relações"
   ]
  },
  {
   "cell_type": "markdown",
   "id": "4e3f8420-0720-4f83-84f3-14620b5229e6",
   "metadata": {},
   "source": [
    "### 6.2.1 Companhias aereas que não possuem nenhum avião com o selo B da ANAC"
   ]
  },
  {
   "cell_type": "markdown",
   "id": "6a1bc1f8-4a2d-4562-ac71-f31d9fec1dfa",
   "metadata": {},
   "source": [
    "#### Esta consulta identifica companhias aéreas que não possuem aviões com certificação \"B\" da ANAC. A junção das tabelas companhia_aerea_aviao e aviao permite verificar quais companhias possuem aeronaves com este selo, e a subconsulta exclui essas companhias do resultado final. É importante para assegurar que os contratos sejam firmados com empresas que atendam a padrões mínimos de segurança ou qualidade técnica, podendo embasar políticas de seleção mais criteriosas."
   ]
  },
  {
   "cell_type": "code",
   "execution_count": 6,
   "id": "17bb5706-9bab-4e67-a514-05b3c7a14644",
   "metadata": {},
   "outputs": [
    {
     "data": {
      "text/html": [
       "<div>\n",
       "<style scoped>\n",
       "    .dataframe tbody tr th:only-of-type {\n",
       "        vertical-align: middle;\n",
       "    }\n",
       "\n",
       "    .dataframe tbody tr th {\n",
       "        vertical-align: top;\n",
       "    }\n",
       "\n",
       "    .dataframe thead th {\n",
       "        text-align: right;\n",
       "    }\n",
       "</style>\n",
       "<table border=\"1\" class=\"dataframe\">\n",
       "  <thead>\n",
       "    <tr style=\"text-align: right;\">\n",
       "      <th></th>\n",
       "      <th>id_companhia_aerea</th>\n",
       "    </tr>\n",
       "  </thead>\n",
       "  <tbody>\n",
       "    <tr>\n",
       "      <th>0</th>\n",
       "      <td>2</td>\n",
       "    </tr>\n",
       "  </tbody>\n",
       "</table>\n",
       "</div>"
      ],
      "text/plain": [
       "   id_companhia_aerea\n",
       "0                   2"
      ]
     },
     "execution_count": 6,
     "metadata": {},
     "output_type": "execute_result"
    }
   ],
   "source": [
    "query = \"\"\"\n",
    "            SELECT DISTINCT id_companhia_aerea\n",
    "            FROM companhia_aerea_aviao\n",
    "            WHERE id_companhia_aerea NOT IN (\n",
    "                SELECT id_companhia_aerea\n",
    "                FROM companhia_aerea_aviao\n",
    "                NATURAL JOIN aviao\n",
    "                WHERE selo_anac = \"B\")\n",
    "        \"\"\"\n",
    "\n",
    "df = pd.read_sql_query(query, connection)\n",
    "df"
   ]
  },
  {
   "cell_type": "markdown",
   "id": "8cb01309-92a3-4522-8076-379c4689eb54",
   "metadata": {},
   "source": [
    "### 6.2.2 Órgãos que compraram mais de 30 bilhetes pro mesmo dia (embarque)"
   ]
  },
  {
   "cell_type": "markdown",
   "id": "daa0dfd6-a701-460b-b13c-9ae5e37101ab",
   "metadata": {},
   "source": [
    "#### Esta consulta identifica órgãos que adquiriram mais de 30 bilhetes para embarque no mesmo dia. A junção entre as tabelas orgao, orgao_bilhete, e bilhete permite conectar os códigos dos órgãos aos bilhetes emitidos. Os resultados são agrupados pelo órgão e pela data de embarque, retornando o número total de bilhetes adquiridos por dia.\n",
    "\n",
    "#### Relaciona-se à proposta ao fazer a análise de gastos por órgão, pois ajuda a identificar padrões específicos de alta demanda de bilhetes, o que pode refletir em ações conjuntas (como eventos ou deslocamentos em massa) e em possíveis impactos no orçamento do órgão. Além disso, é útil para detectar comportamentos operacionais únicos, como viagens coletivas, que podem indicar a necessidade de políticas específicas de planejamento ou contratação."
   ]
  },
  {
   "cell_type": "code",
   "execution_count": 7,
   "id": "f67c22e9-bdcc-447f-9032-0390a499ace3",
   "metadata": {},
   "outputs": [
    {
     "data": {
      "text/html": [
       "<div>\n",
       "<style scoped>\n",
       "    .dataframe tbody tr th:only-of-type {\n",
       "        vertical-align: middle;\n",
       "    }\n",
       "\n",
       "    .dataframe tbody tr th {\n",
       "        vertical-align: top;\n",
       "    }\n",
       "\n",
       "    .dataframe thead th {\n",
       "        text-align: right;\n",
       "    }\n",
       "</style>\n",
       "<table border=\"1\" class=\"dataframe\">\n",
       "  <thead>\n",
       "    <tr style=\"text-align: right;\">\n",
       "      <th></th>\n",
       "      <th>codigo_orgao</th>\n",
       "      <th>nome_orgao</th>\n",
       "      <th>data_embarque</th>\n",
       "      <th>quantidade_bilhetes</th>\n",
       "    </tr>\n",
       "  </thead>\n",
       "  <tbody>\n",
       "    <tr>\n",
       "      <th>0</th>\n",
       "      <td>101068</td>\n",
       "      <td>Conselho Administrativo de Recursos Fiscais</td>\n",
       "      <td>08/07/2024</td>\n",
       "      <td>32</td>\n",
       "    </tr>\n",
       "    <tr>\n",
       "      <th>1</th>\n",
       "      <td>223030</td>\n",
       "      <td>Secretaria Nacional dos Direitos da Pessoa com...</td>\n",
       "      <td>14/07/2024</td>\n",
       "      <td>428</td>\n",
       "    </tr>\n",
       "    <tr>\n",
       "      <th>2</th>\n",
       "      <td>223030</td>\n",
       "      <td>Secretaria Nacional dos Direitos da Pessoa com...</td>\n",
       "      <td>17/07/2024</td>\n",
       "      <td>326</td>\n",
       "    </tr>\n",
       "    <tr>\n",
       "      <th>3</th>\n",
       "      <td>223030</td>\n",
       "      <td>Secretaria Nacional dos Direitos da Pessoa com...</td>\n",
       "      <td>18/07/2024</td>\n",
       "      <td>104</td>\n",
       "    </tr>\n",
       "    <tr>\n",
       "      <th>4</th>\n",
       "      <td>221418</td>\n",
       "      <td>Departamento de Segurança Presidencial</td>\n",
       "      <td>20/06/2024</td>\n",
       "      <td>50</td>\n",
       "    </tr>\n",
       "    <tr>\n",
       "      <th>5</th>\n",
       "      <td>309260</td>\n",
       "      <td>Secretaria-Executiva do Conselho de Desenvolvi...</td>\n",
       "      <td>26/06/2024</td>\n",
       "      <td>49</td>\n",
       "    </tr>\n",
       "    <tr>\n",
       "      <th>6</th>\n",
       "      <td>309260</td>\n",
       "      <td>Secretaria-Executiva do Conselho de Desenvolvi...</td>\n",
       "      <td>27/06/2024</td>\n",
       "      <td>74</td>\n",
       "    </tr>\n",
       "    <tr>\n",
       "      <th>7</th>\n",
       "      <td>221418</td>\n",
       "      <td>Departamento de Segurança Presidencial</td>\n",
       "      <td>28/06/2024</td>\n",
       "      <td>44</td>\n",
       "    </tr>\n",
       "  </tbody>\n",
       "</table>\n",
       "</div>"
      ],
      "text/plain": [
       "   codigo_orgao                                         nome_orgao  \\\n",
       "0        101068        Conselho Administrativo de Recursos Fiscais   \n",
       "1        223030  Secretaria Nacional dos Direitos da Pessoa com...   \n",
       "2        223030  Secretaria Nacional dos Direitos da Pessoa com...   \n",
       "3        223030  Secretaria Nacional dos Direitos da Pessoa com...   \n",
       "4        221418             Departamento de Segurança Presidencial   \n",
       "5        309260  Secretaria-Executiva do Conselho de Desenvolvi...   \n",
       "6        309260  Secretaria-Executiva do Conselho de Desenvolvi...   \n",
       "7        221418             Departamento de Segurança Presidencial   \n",
       "\n",
       "  data_embarque  quantidade_bilhetes  \n",
       "0    08/07/2024                   32  \n",
       "1    14/07/2024                  428  \n",
       "2    17/07/2024                  326  \n",
       "3    18/07/2024                  104  \n",
       "4    20/06/2024                   50  \n",
       "5    26/06/2024                   49  \n",
       "6    27/06/2024                   74  \n",
       "7    28/06/2024                   44  "
      ]
     },
     "execution_count": 7,
     "metadata": {},
     "output_type": "execute_result"
    }
   ],
   "source": [
    "query = \"\"\"\n",
    "            SELECT \n",
    "                codigo_orgao,\n",
    "                nome_orgao,\n",
    "                data_embarque,\n",
    "                COUNT(*) AS quantidade_bilhetes\n",
    "            FROM \n",
    "                orgao\n",
    "            NATURAL JOIN orgao_bilhete\n",
    "            NATURAL JOIN bilhete\n",
    "            GROUP BY \n",
    "                codigo_orgao, nome_orgao, data_embarque\n",
    "            HAVING \n",
    "                COUNT(*) > 30\n",
    "            ORDER BY \n",
    "                data_embarque, quantidade_bilhetes DESC;\n",
    "        \"\"\"\n",
    "\n",
    "df = pd.read_sql_query(query, connection)\n",
    "df"
   ]
  },
  {
   "cell_type": "markdown",
   "id": "bacd09e6-46d0-4145-b395-a59b0b1a391b",
   "metadata": {},
   "source": [
    "### 6.2.3 Companhias aéreas com mais cancelamentos e/ou no shows"
   ]
  },
  {
   "cell_type": "markdown",
   "id": "fddf99e5-3ec6-4294-818f-44a22eb290b7",
   "metadata": {},
   "source": [
    "#### A consulta analisa o desempenho das companhias aéreas, calculando o percentual de bilhetes cancelados ou marcados como no-show. As tabelas companhia_aerea e bilhete são unidas para associar os bilhetes aos seus respectivos emissores. A métrica é obtida com base no número de bilhetes emitidos e no número de bilhetes cancelados ou com no-show.\n",
    "\n",
    "#### É possivel identificar padrões de uso das companhias aéreas, ajudando a avaliar a eficiência e a confiabilidade das companhias contratadas. Esse dado pode ser usado para identificar padrões de desempenho e, potencialmente, para renegociar contratos com empresas menos eficientes."
   ]
  },
  {
   "cell_type": "code",
   "execution_count": 8,
   "id": "0f3a4dac-0ef8-4137-90c1-2e49cba86caf",
   "metadata": {},
   "outputs": [
    {
     "data": {
      "text/html": [
       "<div>\n",
       "<style scoped>\n",
       "    .dataframe tbody tr th:only-of-type {\n",
       "        vertical-align: middle;\n",
       "    }\n",
       "\n",
       "    .dataframe tbody tr th {\n",
       "        vertical-align: top;\n",
       "    }\n",
       "\n",
       "    .dataframe thead th {\n",
       "        text-align: right;\n",
       "    }\n",
       "</style>\n",
       "<table border=\"1\" class=\"dataframe\">\n",
       "  <thead>\n",
       "    <tr style=\"text-align: right;\">\n",
       "      <th></th>\n",
       "      <th>nome_companhia</th>\n",
       "      <th>nBilhetes</th>\n",
       "      <th>nCancelamentos</th>\n",
       "      <th>pctCancelamentos</th>\n",
       "    </tr>\n",
       "  </thead>\n",
       "  <tbody>\n",
       "    <tr>\n",
       "      <th>0</th>\n",
       "      <td>AZUL LINHAS AÉREAS BRASILEIRA</td>\n",
       "      <td>771</td>\n",
       "      <td>80</td>\n",
       "      <td>10.38</td>\n",
       "    </tr>\n",
       "    <tr>\n",
       "      <th>1</th>\n",
       "      <td>LATAM AIRLINES BRASIL</td>\n",
       "      <td>1938</td>\n",
       "      <td>143</td>\n",
       "      <td>7.38</td>\n",
       "    </tr>\n",
       "    <tr>\n",
       "      <th>2</th>\n",
       "      <td>GOL Linhas Aéreas Inteligentes</td>\n",
       "      <td>1245</td>\n",
       "      <td>69</td>\n",
       "      <td>5.54</td>\n",
       "    </tr>\n",
       "  </tbody>\n",
       "</table>\n",
       "</div>"
      ],
      "text/plain": [
       "                   nome_companhia  nBilhetes  nCancelamentos  pctCancelamentos\n",
       "0   AZUL LINHAS AÉREAS BRASILEIRA        771              80             10.38\n",
       "1           LATAM AIRLINES BRASIL       1938             143              7.38\n",
       "2  GOL Linhas Aéreas Inteligentes       1245              69              5.54"
      ]
     },
     "execution_count": 8,
     "metadata": {},
     "output_type": "execute_result"
    }
   ],
   "source": [
    "query = \"\"\"\n",
    "            SELECT nome_companhia, COUNT(DISTINCT localizador) as nBilhetes, \n",
    "            COUNT(DISTINCT CASE WHEN no_show = TRUE OR cancelado = TRUE THEN localizador END) as nCancelamentos,\n",
    "            ROUND(\n",
    "                100.0 * COUNT(DISTINCT CASE WHEN no_show = TRUE OR cancelado = TRUE THEN localizador END) / COUNT(DISTINCT localizador), 2) AS pctCancelamentos\n",
    "            FROM companhia_aerea\n",
    "            NATURAL JOIN bilhete\n",
    "            GROUP BY id_companhia_aerea\n",
    "            ORDER BY pctCancelamentos DESC\n",
    "        \"\"\"\n",
    "\n",
    "df = pd.read_sql_query(query, connection)\n",
    "df"
   ]
  },
  {
   "cell_type": "markdown",
   "id": "b7831591-4962-4603-bfba-3d7d6a6444cf",
   "metadata": {},
   "source": [
    "## 6.3 Três consultas envolvendo junção de três ou mais relações"
   ]
  },
  {
   "cell_type": "markdown",
   "id": "f32f98ef-1d0c-4f54-a963-e7a2cd6144af",
   "metadata": {},
   "source": [
    "### 6.3.1 Órgão que comprou o bilhete mais caro gerado pela LATAM"
   ]
  },
  {
   "cell_type": "markdown",
   "id": "411695d8-43b7-4e4a-a34e-38594d25dde9",
   "metadata": {},
   "source": [
    "#### Identifica o órgão que adquiriu o bilhete mais caro emitido pela LATAM. A junção das tabelas orgao, orgao_bilhete, bilhete, e companhia_aerea conecta os órgãos aos bilhetes emitidos e filtra os resultados apenas para bilhetes da LATAM. O resultado final é ordenado pelo valor do bilhete em ordem decrescente, retornando apenas o maior.\n",
    "\n",
    "#### Esta consulta faz a análise de gastos por órgão, pois examina os custos elevados de bilhetes, possibilitando identificar órgãos que realizam compras de alto valor e destaca casos de maior custo por órgão, o que pode indicar necessidade de ajustes em práticas de compra ou renegociação com fornecedores específicos."
   ]
  },
  {
   "cell_type": "code",
   "execution_count": 9,
   "id": "e8f987fe-9f7f-485a-8fbe-a79b3535d18f",
   "metadata": {},
   "outputs": [
    {
     "data": {
      "text/html": [
       "<div>\n",
       "<style scoped>\n",
       "    .dataframe tbody tr th:only-of-type {\n",
       "        vertical-align: middle;\n",
       "    }\n",
       "\n",
       "    .dataframe tbody tr th {\n",
       "        vertical-align: top;\n",
       "    }\n",
       "\n",
       "    .dataframe thead th {\n",
       "        text-align: right;\n",
       "    }\n",
       "</style>\n",
       "<table border=\"1\" class=\"dataframe\">\n",
       "  <thead>\n",
       "    <tr style=\"text-align: right;\">\n",
       "      <th></th>\n",
       "      <th>codigo_orgao</th>\n",
       "      <th>nome_orgao</th>\n",
       "      <th>valor_bilhete</th>\n",
       "    </tr>\n",
       "  </thead>\n",
       "  <tbody>\n",
       "    <tr>\n",
       "      <th>0</th>\n",
       "      <td>78055</td>\n",
       "      <td>Secretaria Especial de Articulação e Monitoram...</td>\n",
       "      <td>5847.14</td>\n",
       "    </tr>\n",
       "  </tbody>\n",
       "</table>\n",
       "</div>"
      ],
      "text/plain": [
       "   codigo_orgao                                         nome_orgao  \\\n",
       "0         78055  Secretaria Especial de Articulação e Monitoram...   \n",
       "\n",
       "   valor_bilhete  \n",
       "0        5847.14  "
      ]
     },
     "execution_count": 9,
     "metadata": {},
     "output_type": "execute_result"
    }
   ],
   "source": [
    "query = \"\"\"\n",
    "            SELECT DISTINCT codigo_orgao, nome_orgao, valor_bilhete\n",
    "            FROM orgao\n",
    "            NATURAL JOIN orgao_bilhete\n",
    "            NATURAL JOIN bilhete\n",
    "            NATURAL JOIN companhia_aerea\n",
    "            WHERE nome_companhia == \"LATAM AIRLINES BRASIL\"\n",
    "            ORDER BY\n",
    "                valor_bilhete DESC\n",
    "            LIMIT 1\n",
    "            \n",
    "        \"\"\"\n",
    "\n",
    "df = pd.read_sql_query(query, connection)\n",
    "df"
   ]
  },
  {
   "cell_type": "markdown",
   "id": "771a0a31-7fa8-4300-b358-b44a55a7e610",
   "metadata": {},
   "source": [
    "### 6.3.2 Aviões ativos por modelo de avião e companhia"
   ]
  },
  {
   "cell_type": "markdown",
   "id": "ee5a92ed-968c-4784-9ae8-94414028f5d7",
   "metadata": {},
   "source": [
    "#### Lista os modelos de aviões ativos em operação por cada companhia aérea, com informações adicionais como o número de assentos disponíveis. A junção das tabelas companhia_aerea, companhia_aerea_aviao, e aviao permite cruzar informações sobre as companhias, seus modelos de aeronaves, e o status de operação.\n",
    "\n",
    "#### A consulta é essencial para entender a infraestrutura e capacidade operacional de cada companhia aérea, permitindo avaliar se estão aptas a atender às demandas contratuais."
   ]
  },
  {
   "cell_type": "code",
   "execution_count": 10,
   "id": "ae0c2602-7052-40de-a383-bad1498e5ea3",
   "metadata": {},
   "outputs": [
    {
     "data": {
      "text/html": [
       "<div>\n",
       "<style scoped>\n",
       "    .dataframe tbody tr th:only-of-type {\n",
       "        vertical-align: middle;\n",
       "    }\n",
       "\n",
       "    .dataframe tbody tr th {\n",
       "        vertical-align: top;\n",
       "    }\n",
       "\n",
       "    .dataframe thead th {\n",
       "        text-align: right;\n",
       "    }\n",
       "</style>\n",
       "<table border=\"1\" class=\"dataframe\">\n",
       "  <thead>\n",
       "    <tr style=\"text-align: right;\">\n",
       "      <th></th>\n",
       "      <th>nome_companhia</th>\n",
       "      <th>modelo</th>\n",
       "      <th>assentos</th>\n",
       "      <th>ativos</th>\n",
       "    </tr>\n",
       "  </thead>\n",
       "  <tbody>\n",
       "    <tr>\n",
       "      <th>0</th>\n",
       "      <td>LATAM AIRLINES BRASIL</td>\n",
       "      <td>Airbus A319</td>\n",
       "      <td>144</td>\n",
       "      <td>19</td>\n",
       "    </tr>\n",
       "    <tr>\n",
       "      <th>1</th>\n",
       "      <td>LATAM AIRLINES BRASIL</td>\n",
       "      <td>Airbus A320</td>\n",
       "      <td>174</td>\n",
       "      <td>60</td>\n",
       "    </tr>\n",
       "    <tr>\n",
       "      <th>2</th>\n",
       "      <td>LATAM AIRLINES BRASIL</td>\n",
       "      <td>Airbus A320neo</td>\n",
       "      <td>174</td>\n",
       "      <td>16</td>\n",
       "    </tr>\n",
       "    <tr>\n",
       "      <th>3</th>\n",
       "      <td>LATAM AIRLINES BRASIL</td>\n",
       "      <td>Airbus A321</td>\n",
       "      <td>224</td>\n",
       "      <td>31</td>\n",
       "    </tr>\n",
       "    <tr>\n",
       "      <th>4</th>\n",
       "      <td>LATAM AIRLINES BRASIL</td>\n",
       "      <td>Airbus A321neo</td>\n",
       "      <td>228</td>\n",
       "      <td>14</td>\n",
       "    </tr>\n",
       "    <tr>\n",
       "      <th>5</th>\n",
       "      <td>LATAM AIRLINES BRASIL</td>\n",
       "      <td>Boeing 777-300ER</td>\n",
       "      <td>410</td>\n",
       "      <td>10</td>\n",
       "    </tr>\n",
       "    <tr>\n",
       "      <th>6</th>\n",
       "      <td>LATAM AIRLINES BRASIL</td>\n",
       "      <td>Boeing 787-9</td>\n",
       "      <td>303</td>\n",
       "      <td>1</td>\n",
       "    </tr>\n",
       "    <tr>\n",
       "      <th>7</th>\n",
       "      <td>GOL Linhas Aéreas Inteligentes</td>\n",
       "      <td>Boeing 737-700</td>\n",
       "      <td>138</td>\n",
       "      <td>11</td>\n",
       "    </tr>\n",
       "    <tr>\n",
       "      <th>8</th>\n",
       "      <td>GOL Linhas Aéreas Inteligentes</td>\n",
       "      <td>Boeing 737-800</td>\n",
       "      <td>186</td>\n",
       "      <td>56</td>\n",
       "    </tr>\n",
       "    <tr>\n",
       "      <th>9</th>\n",
       "      <td>GOL Linhas Aéreas Inteligentes</td>\n",
       "      <td>Boeing 737 MAX 8</td>\n",
       "      <td>186</td>\n",
       "      <td>52</td>\n",
       "    </tr>\n",
       "    <tr>\n",
       "      <th>10</th>\n",
       "      <td>AZUL LINHAS AÉREAS BRASILEIRA</td>\n",
       "      <td>Airbus A320neo</td>\n",
       "      <td>174</td>\n",
       "      <td>51</td>\n",
       "    </tr>\n",
       "    <tr>\n",
       "      <th>11</th>\n",
       "      <td>AZUL LINHAS AÉREAS BRASILEIRA</td>\n",
       "      <td>Airbus A321neo</td>\n",
       "      <td>228</td>\n",
       "      <td>6</td>\n",
       "    </tr>\n",
       "    <tr>\n",
       "      <th>12</th>\n",
       "      <td>AZUL LINHAS AÉREAS BRASILEIRA</td>\n",
       "      <td>Airbus A330-200</td>\n",
       "      <td>278</td>\n",
       "      <td>5</td>\n",
       "    </tr>\n",
       "    <tr>\n",
       "      <th>13</th>\n",
       "      <td>AZUL LINHAS AÉREAS BRASILEIRA</td>\n",
       "      <td>Airbus A330-900</td>\n",
       "      <td>298</td>\n",
       "      <td>7</td>\n",
       "    </tr>\n",
       "    <tr>\n",
       "      <th>14</th>\n",
       "      <td>AZUL LINHAS AÉREAS BRASILEIRA</td>\n",
       "      <td>ATR-72-600</td>\n",
       "      <td>70</td>\n",
       "      <td>39</td>\n",
       "    </tr>\n",
       "    <tr>\n",
       "      <th>15</th>\n",
       "      <td>AZUL LINHAS AÉREAS BRASILEIRA</td>\n",
       "      <td>Cessna 208B</td>\n",
       "      <td>9</td>\n",
       "      <td>27</td>\n",
       "    </tr>\n",
       "    <tr>\n",
       "      <th>16</th>\n",
       "      <td>AZUL LINHAS AÉREAS BRASILEIRA</td>\n",
       "      <td>Embraer E-195</td>\n",
       "      <td>118</td>\n",
       "      <td>36</td>\n",
       "    </tr>\n",
       "    <tr>\n",
       "      <th>17</th>\n",
       "      <td>AZUL LINHAS AÉREAS BRASILEIRA</td>\n",
       "      <td>Embraer E195-E2</td>\n",
       "      <td>136</td>\n",
       "      <td>28</td>\n",
       "    </tr>\n",
       "  </tbody>\n",
       "</table>\n",
       "</div>"
      ],
      "text/plain": [
       "                    nome_companhia            modelo  assentos  ativos\n",
       "0            LATAM AIRLINES BRASIL       Airbus A319       144      19\n",
       "1            LATAM AIRLINES BRASIL       Airbus A320       174      60\n",
       "2            LATAM AIRLINES BRASIL    Airbus A320neo       174      16\n",
       "3            LATAM AIRLINES BRASIL       Airbus A321       224      31\n",
       "4            LATAM AIRLINES BRASIL    Airbus A321neo       228      14\n",
       "5            LATAM AIRLINES BRASIL  Boeing 777-300ER       410      10\n",
       "6            LATAM AIRLINES BRASIL      Boeing 787-9       303       1\n",
       "7   GOL Linhas Aéreas Inteligentes    Boeing 737-700       138      11\n",
       "8   GOL Linhas Aéreas Inteligentes    Boeing 737-800       186      56\n",
       "9   GOL Linhas Aéreas Inteligentes  Boeing 737 MAX 8       186      52\n",
       "10   AZUL LINHAS AÉREAS BRASILEIRA    Airbus A320neo       174      51\n",
       "11   AZUL LINHAS AÉREAS BRASILEIRA    Airbus A321neo       228       6\n",
       "12   AZUL LINHAS AÉREAS BRASILEIRA   Airbus A330-200       278       5\n",
       "13   AZUL LINHAS AÉREAS BRASILEIRA   Airbus A330-900       298       7\n",
       "14   AZUL LINHAS AÉREAS BRASILEIRA        ATR-72-600        70      39\n",
       "15   AZUL LINHAS AÉREAS BRASILEIRA       Cessna 208B         9      27\n",
       "16   AZUL LINHAS AÉREAS BRASILEIRA     Embraer E-195       118      36\n",
       "17   AZUL LINHAS AÉREAS BRASILEIRA   Embraer E195-E2       136      28"
      ]
     },
     "execution_count": 10,
     "metadata": {},
     "output_type": "execute_result"
    }
   ],
   "source": [
    "query = \"\"\"\n",
    "            SELECT nome_companhia, modelo, assentos, ativos\n",
    "            FROM companhia_aerea\n",
    "            NATURAL JOIN companhia_aerea_aviao \n",
    "            NATURAL JOIN aviao\n",
    "            WHERE ativos > 0\n",
    "        \"\"\"\n",
    "\n",
    "df = pd.read_sql_query(query, connection)\n",
    "df"
   ]
  },
  {
   "cell_type": "markdown",
   "id": "f1151a29-b0bb-4fc2-8535-070e36b95aaf",
   "metadata": {},
   "source": [
    "### 6.3.3 Órgãos que mais cancelaram ou não apareceram em bilhetes comprados"
   ]
  },
  {
   "cell_type": "markdown",
   "id": "d8895f28-c1f6-4aa5-b271-97d91b0eeb83",
   "metadata": {},
   "source": [
    "#### A consulta determina quais órgãos superiores registraram o maior número de bilhetes cancelados ou com no-show. Através da junção de orgao, orgao_bilhete, e bilhete, conecta-se os bilhetes aos órgãos subordinados e superiores. Apenas órgãos superiores (sem vínculo hierárquico acima) são considerados no agrupamento e no somatório de cancelamentos.\n",
    "####  Remete a análise da prosposta, Eficiência Operacional das Viagens, já que analisa o impacto de cancelamentos e no-shows, indicadores de baixa eficiência administrativa e possíveis desperdícios.Além disso, permite identificar órgãos superiores com alta taxa de ineficiência nas viagens, auxiliando no planejamento e na tomada de decisões para reduzir custos e melhorar processos."
   ]
  },
  {
   "cell_type": "code",
   "execution_count": 11,
   "id": "67c13e82-b63f-46a4-8e99-2cb821c79a72",
   "metadata": {},
   "outputs": [
    {
     "data": {
      "text/html": [
       "<div>\n",
       "<style scoped>\n",
       "    .dataframe tbody tr th:only-of-type {\n",
       "        vertical-align: middle;\n",
       "    }\n",
       "\n",
       "    .dataframe tbody tr th {\n",
       "        vertical-align: top;\n",
       "    }\n",
       "\n",
       "    .dataframe thead th {\n",
       "        text-align: right;\n",
       "    }\n",
       "</style>\n",
       "<table border=\"1\" class=\"dataframe\">\n",
       "  <thead>\n",
       "    <tr style=\"text-align: right;\">\n",
       "      <th></th>\n",
       "      <th>nome_superior</th>\n",
       "      <th>cancelamentos</th>\n",
       "    </tr>\n",
       "  </thead>\n",
       "  <tbody>\n",
       "    <tr>\n",
       "      <th>0</th>\n",
       "      <td>Advocacia-Geral da União</td>\n",
       "      <td>48</td>\n",
       "    </tr>\n",
       "    <tr>\n",
       "      <th>1</th>\n",
       "      <td>Gabinete de Segurança Institucional da Presidê...</td>\n",
       "      <td>38</td>\n",
       "    </tr>\n",
       "    <tr>\n",
       "      <th>2</th>\n",
       "      <td>Ministério dos Direitos Humanos e da Cidadania</td>\n",
       "      <td>37</td>\n",
       "    </tr>\n",
       "    <tr>\n",
       "      <th>3</th>\n",
       "      <td>Secretaria de Relações Institucionais</td>\n",
       "      <td>30</td>\n",
       "    </tr>\n",
       "    <tr>\n",
       "      <th>4</th>\n",
       "      <td>Ministério da Gestão e da Inovação em Serviços...</td>\n",
       "      <td>24</td>\n",
       "    </tr>\n",
       "    <tr>\n",
       "      <th>5</th>\n",
       "      <td>Ministério das Cidades</td>\n",
       "      <td>19</td>\n",
       "    </tr>\n",
       "    <tr>\n",
       "      <th>6</th>\n",
       "      <td>Secretaria-Geral da Presidência da República</td>\n",
       "      <td>18</td>\n",
       "    </tr>\n",
       "    <tr>\n",
       "      <th>7</th>\n",
       "      <td>Ministério da Integração e do Desenvolvimento ...</td>\n",
       "      <td>16</td>\n",
       "    </tr>\n",
       "    <tr>\n",
       "      <th>8</th>\n",
       "      <td>Ministério da Fazenda</td>\n",
       "      <td>14</td>\n",
       "    </tr>\n",
       "    <tr>\n",
       "      <th>9</th>\n",
       "      <td>Casa Civil da Presidência da República</td>\n",
       "      <td>14</td>\n",
       "    </tr>\n",
       "    <tr>\n",
       "      <th>10</th>\n",
       "      <td>Ministério das Comunicações</td>\n",
       "      <td>9</td>\n",
       "    </tr>\n",
       "  </tbody>\n",
       "</table>\n",
       "</div>"
      ],
      "text/plain": [
       "                                        nome_superior  cancelamentos\n",
       "0                            Advocacia-Geral da União             48\n",
       "1   Gabinete de Segurança Institucional da Presidê...             38\n",
       "2      Ministério dos Direitos Humanos e da Cidadania             37\n",
       "3               Secretaria de Relações Institucionais             30\n",
       "4   Ministério da Gestão e da Inovação em Serviços...             24\n",
       "5                              Ministério das Cidades             19\n",
       "6        Secretaria-Geral da Presidência da República             18\n",
       "7   Ministério da Integração e do Desenvolvimento ...             16\n",
       "8                               Ministério da Fazenda             14\n",
       "9              Casa Civil da Presidência da República             14\n",
       "10                        Ministério das Comunicações              9"
      ]
     },
     "execution_count": 11,
     "metadata": {},
     "output_type": "execute_result"
    }
   ],
   "source": [
    "query = \"\"\"\n",
    "            SELECT nome_superior, SUM(nViagens) as cancelamentos\n",
    "            FROM (\n",
    "                SELECT o2.nome_orgao as nome_superior, COUNT(DISTINCT b.localizador) AS nViagens\n",
    "                FROM orgao AS o1\n",
    "                JOIN orgao AS o2 ON o1.codigo_orgao_superior = o2.codigo_orgao\n",
    "                JOIN orgao_bilhete AS ob ON o1.codigo_orgao = ob.codigo_orgao\n",
    "                JOIN bilhete AS b ON ob.localizador = b.localizador\n",
    "                WHERE o2.codigo_orgao_superior IS NULL AND (b.no_show = TRUE OR b.cancelado = TRUE)\n",
    "                GROUP BY o1.codigo_orgao\n",
    "            ) AS subquery\n",
    "            GROUP BY nome_superior\n",
    "            ORDER BY cancelamentos DESC\n",
    "        \"\"\"\n",
    "\n",
    "df = pd.read_sql_query(query, connection)\n",
    "df"
   ]
  },
  {
   "cell_type": "markdown",
   "id": "e52ae1cc-2a5a-44a1-8de6-7c57b37c79a7",
   "metadata": {},
   "source": [
    "## 6.4 Duas consultas envolvendo agregação sobre junção de duas ou mais relações"
   ]
  },
  {
   "cell_type": "markdown",
   "id": "69a7df86-e628-4abf-bb77-60e794b556f7",
   "metadata": {},
   "source": [
    "### 6.4.1 Orgão cuja soma das multas com bilhetes aéreos é maior"
   ]
  },
  {
   "cell_type": "markdown",
   "id": "460014a3-bae5-433b-abfb-6a6c2d570b0d",
   "metadata": {},
   "source": [
    "#### A consulta identifica o órgão com maior soma de multas associadas aos bilhetes aéreos. A junção entre as tabelas orgao, orgao_bilhete, e bilhete conecta os bilhetes às multas registradas e aplica uma agregação para calcular a soma total de multas por órgão. O resultado é ordenado de forma decrescente, retornando o órgão com maior soma.\n",
    "\n",
    "#### Este levantamento ajuda a identificar quais órgãos acumulam maiores custos com multas, destacando a necessidade de melhorar a gestão de viagens e os processos de compra de bilhetes, a fim de reduzir essas penalidades."
   ]
  },
  {
   "cell_type": "code",
   "execution_count": 12,
   "id": "c21f05e0-0d74-4089-966a-154149aab670",
   "metadata": {},
   "outputs": [
    {
     "data": {
      "text/html": [
       "<div>\n",
       "<style scoped>\n",
       "    .dataframe tbody tr th:only-of-type {\n",
       "        vertical-align: middle;\n",
       "    }\n",
       "\n",
       "    .dataframe tbody tr th {\n",
       "        vertical-align: top;\n",
       "    }\n",
       "\n",
       "    .dataframe thead th {\n",
       "        text-align: right;\n",
       "    }\n",
       "</style>\n",
       "<table border=\"1\" class=\"dataframe\">\n",
       "  <thead>\n",
       "    <tr style=\"text-align: right;\">\n",
       "      <th></th>\n",
       "      <th>codigo_orgao</th>\n",
       "      <th>nome_orgao</th>\n",
       "      <th>soma_das_multas</th>\n",
       "    </tr>\n",
       "  </thead>\n",
       "  <tbody>\n",
       "    <tr>\n",
       "      <th>0</th>\n",
       "      <td>70352</td>\n",
       "      <td>Secretaria-Geral de Administração</td>\n",
       "      <td>9562.89</td>\n",
       "    </tr>\n",
       "  </tbody>\n",
       "</table>\n",
       "</div>"
      ],
      "text/plain": [
       "   codigo_orgao                         nome_orgao  soma_das_multas\n",
       "0         70352  Secretaria-Geral de Administração          9562.89"
      ]
     },
     "execution_count": 12,
     "metadata": {},
     "output_type": "execute_result"
    }
   ],
   "source": [
    "query = \"\"\"\n",
    "            SELECT DISTINCT codigo_orgao, nome_orgao, SUM(valor_multas) as soma_das_multas\n",
    "            FROM orgao\n",
    "            NATURAL JOIN orgao_bilhete\n",
    "            NATURAL JOIN bilhete\n",
    "            WHERE valor_multas > 0 \n",
    "            GROUP BY codigo_orgao, nome_orgao\n",
    "            ORDER BY soma_das_multas desc\n",
    "            LIMIT 1\n",
    "            \n",
    "        \"\"\"\n",
    "\n",
    "df = pd.read_sql_query(query, connection)\n",
    "df"
   ]
  },
  {
   "cell_type": "markdown",
   "id": "9ad62f52-cbb9-47e3-9d94-138eeaffa977",
   "metadata": {},
   "source": [
    "### 6.4.2  Número de viagens de cada órgão superior"
   ]
  },
  {
   "cell_type": "markdown",
   "id": "141c425d-c7d8-40d3-8776-f9f78583e0fe",
   "metadata": {},
   "source": [
    "#### Esta consulta calcula o número total de viagens realizadas por cada órgão superior, somando os bilhetes válidos (não cancelados e sem no-show). A consulta utiliza junção entre orgao, orgao_bilhete, e bilhete, agrupando os dados por órgão superior para realizar a agregação da soma do número de viagens.\n",
    "\n",
    "#### A análise do número de viagens permite identificar quais órgãos superiores concentram maior atividade operacional, possibilitando ajustes no planejamento logístico e no orçamento de viagens."
   ]
  },
  {
   "cell_type": "code",
   "execution_count": 13,
   "id": "e179d647-559b-42bb-ae2a-c3214147a486",
   "metadata": {},
   "outputs": [
    {
     "data": {
      "text/html": [
       "<div>\n",
       "<style scoped>\n",
       "    .dataframe tbody tr th:only-of-type {\n",
       "        vertical-align: middle;\n",
       "    }\n",
       "\n",
       "    .dataframe tbody tr th {\n",
       "        vertical-align: top;\n",
       "    }\n",
       "\n",
       "    .dataframe thead th {\n",
       "        text-align: right;\n",
       "    }\n",
       "</style>\n",
       "<table border=\"1\" class=\"dataframe\">\n",
       "  <thead>\n",
       "    <tr style=\"text-align: right;\">\n",
       "      <th></th>\n",
       "      <th>nome_superior</th>\n",
       "      <th>tViagens</th>\n",
       "    </tr>\n",
       "  </thead>\n",
       "  <tbody>\n",
       "    <tr>\n",
       "      <th>0</th>\n",
       "      <td>Ministério dos Direitos Humanos e da Cidadania</td>\n",
       "      <td>1264</td>\n",
       "    </tr>\n",
       "    <tr>\n",
       "      <th>1</th>\n",
       "      <td>Gabinete de Segurança Institucional da Presidê...</td>\n",
       "      <td>380</td>\n",
       "    </tr>\n",
       "    <tr>\n",
       "      <th>2</th>\n",
       "      <td>Secretaria de Relações Institucionais</td>\n",
       "      <td>258</td>\n",
       "    </tr>\n",
       "    <tr>\n",
       "      <th>3</th>\n",
       "      <td>Ministério das Cidades</td>\n",
       "      <td>238</td>\n",
       "    </tr>\n",
       "    <tr>\n",
       "      <th>4</th>\n",
       "      <td>Ministério da Fazenda</td>\n",
       "      <td>218</td>\n",
       "    </tr>\n",
       "    <tr>\n",
       "      <th>5</th>\n",
       "      <td>Advocacia-Geral da União</td>\n",
       "      <td>207</td>\n",
       "    </tr>\n",
       "    <tr>\n",
       "      <th>6</th>\n",
       "      <td>Ministério da Integração e do Desenvolvimento ...</td>\n",
       "      <td>197</td>\n",
       "    </tr>\n",
       "    <tr>\n",
       "      <th>7</th>\n",
       "      <td>Casa Civil da Presidência da República</td>\n",
       "      <td>173</td>\n",
       "    </tr>\n",
       "    <tr>\n",
       "      <th>8</th>\n",
       "      <td>Secretaria-Geral da Presidência da República</td>\n",
       "      <td>150</td>\n",
       "    </tr>\n",
       "    <tr>\n",
       "      <th>9</th>\n",
       "      <td>Ministério da Gestão e da Inovação em Serviços...</td>\n",
       "      <td>141</td>\n",
       "    </tr>\n",
       "    <tr>\n",
       "      <th>10</th>\n",
       "      <td>Presidência da República</td>\n",
       "      <td>131</td>\n",
       "    </tr>\n",
       "    <tr>\n",
       "      <th>11</th>\n",
       "      <td>Ministério das Comunicações</td>\n",
       "      <td>83</td>\n",
       "    </tr>\n",
       "  </tbody>\n",
       "</table>\n",
       "</div>"
      ],
      "text/plain": [
       "                                        nome_superior  tViagens\n",
       "0      Ministério dos Direitos Humanos e da Cidadania      1264\n",
       "1   Gabinete de Segurança Institucional da Presidê...       380\n",
       "2               Secretaria de Relações Institucionais       258\n",
       "3                              Ministério das Cidades       238\n",
       "4                               Ministério da Fazenda       218\n",
       "5                            Advocacia-Geral da União       207\n",
       "6   Ministério da Integração e do Desenvolvimento ...       197\n",
       "7              Casa Civil da Presidência da República       173\n",
       "8        Secretaria-Geral da Presidência da República       150\n",
       "9   Ministério da Gestão e da Inovação em Serviços...       141\n",
       "10                           Presidência da República       131\n",
       "11                        Ministério das Comunicações        83"
      ]
     },
     "execution_count": 13,
     "metadata": {},
     "output_type": "execute_result"
    }
   ],
   "source": [
    "query = \"\"\"\n",
    "            SELECT nome_superior, SUM(nViagens) as tViagens\n",
    "            FROM (\n",
    "                SELECT o2.nome_orgao as nome_superior, COUNT(DISTINCT b.localizador) AS nViagens\n",
    "                FROM orgao AS o1\n",
    "                JOIN orgao AS o2 ON o1.codigo_orgao_superior = o2.codigo_orgao\n",
    "                JOIN orgao_bilhete AS ob ON o1.codigo_orgao = ob.codigo_orgao\n",
    "                JOIN bilhete AS b ON ob.localizador = b.localizador\n",
    "                WHERE o2.codigo_orgao_superior IS NULL AND b.no_show = FALSE AND b.cancelado = FALSE\n",
    "                GROUP BY o1.codigo_orgao\n",
    "            ) AS subquery\n",
    "            GROUP BY nome_superior\n",
    "            ORDER BY tViagens DESC\n",
    "        \"\"\"\n",
    "\n",
    "df = pd.read_sql_query(query, connection)\n",
    "df"
   ]
  },
  {
   "cell_type": "markdown",
   "id": "ac240403-0e55-43f5-a4fa-afb6648ec363",
   "metadata": {},
   "source": [
    "# Autoavalição dos membros"
   ]
  },
  {
   "cell_type": "markdown",
   "id": "e4dbfbfe-574a-4607-8eee-4c815d37cf75",
   "metadata": {},
   "source": [
    "#### \"Durante o trabalho em grupo, contribuí ativamente no processo de normalização da base de dados, garantindo que as tabelas fossem estruturadas de forma consistente e eficiente. Além disso, desenvolvi os scripts SQL para criar as tabelas no banco de dados e populá-las com os dados normalizados, e, por fim, ainda implementei a interface em Streamlit. Considero que minha contribuição foi fundamental para a realização do trabalho, haja vista que participei da maioria das etapas de desenvolvimento.\" - Luiz Felipe Araújo Gondim"
   ]
  },
  {
   "cell_type": "markdown",
   "id": "f657fa04-209a-474b-b7e8-4972be03cf20",
   "metadata": {},
   "source": [
    "#### \"Para o trabalho em grupo, me responsabilizei pela elaboração de 5 consultas SQL, contribui para o processo de normalização da base de dados, sempre buscando puxar debates e a atenção do grupo para a consistência do esquema relacional normalizado. Considero que minha participação foi positiva para o grupo, sempre tentando resolver minhas pendências com antecedência e fulgor.\" - João Carlos Ferraz de Souza"
   ]
  },
  {
   "cell_type": "markdown",
   "id": "0045cb4c-4e6d-431b-92e4-8496abe9586b",
   "metadata": {},
   "source": [
    "#### \"Nesse trabalho, participei ativamente ajudando na criação do esquema ER, relacional e na normalização dessas tabelas. Além disso, formulei 5 das 10 consultas SQL ao banco de dados, buscando sempre realizar consultas completas e a aplicabilidade das mesmas no mundo real, o que nos permitirá fazer uma análise mais contundente.\" - Clarice Oliveira Minobolli Teixeira"
   ]
  },
  {
   "cell_type": "markdown",
   "id": "bb3d3e12-4efb-4be6-b0a1-1c5c83ec9edf",
   "metadata": {},
   "source": [
    "#### \" Durante o trabalho em grupo, fui responsável pela elaboração da proposta inicial e pela análise final das consultas realizadas ao banco de dados. Conduzi a análise dos resultados, associando-os aos objetivos da proposta, como análise de gastos, eficiência operacional e padrões de uso das companhias aéreas. Acredito que minha contribuição foi essencial para o sucesso do trabalho, pois assegurei que as consultas e suas análises estivessem alinhadas com os objetivos do projeto, proporcionando uma visão clara e objetiva dos dados.\" - Matheus Costa Melo Silva"
   ]
  }
 ],
 "metadata": {
  "kernelspec": {
   "display_name": "Python 3 (ipykernel)",
   "language": "python",
   "name": "python3"
  },
  "language_info": {
   "codemirror_mode": {
    "name": "ipython",
    "version": 3
   },
   "file_extension": ".py",
   "mimetype": "text/x-python",
   "name": "python",
   "nbconvert_exporter": "python",
   "pygments_lexer": "ipython3",
   "version": "3.10.12"
  }
 },
 "nbformat": 4,
 "nbformat_minor": 5
}
